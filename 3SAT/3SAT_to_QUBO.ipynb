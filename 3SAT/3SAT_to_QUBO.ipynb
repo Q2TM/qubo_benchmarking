{
 "cells": [
  {
   "cell_type": "markdown",
   "metadata": {},
   "source": [
    "Max3-SAT_to_QUBO"
   ]
  },
  {
   "cell_type": "markdown",
   "metadata": {},
   "source": [
    "Construct QUBO matrix for 3SAT\n",
    "From:\n",
    "$$\n",
    "-g(x,w) = K + [x, w]^T F(phi) [x, w] \n",
    "$$"
   ]
  },
  {
   "cell_type": "markdown",
   "metadata": {},
   "source": [
    "Ex.\n",
    "$$\n",
    "-g(x, w) = -4 + 0x_1 - 2x_1x_2 + 2x_1x_3 - x_1w_1 + x_1w_2 - x_1w_3 + x_1w_4 \\\\\n",
    "+ x_2 - 0x_2x_3 - x_2w_1 - x_2w_2 + x_2w_3 - x_2w_4 - x_3 - x_3w_1 - x_3w_2 \\\\\n",
    "- x_3w_3 + x_3w_4 + 2w_1 + 0(w_1w_2 + w_1w_3 + w_1w_4) \\\\\n",
    "+ w_2 + 0(w_2w_3 + w_2w_4) + w_3 + 0w_3w_4 + 0w_4\\\\\n",
    "$$\\\\\n"
   ]
  },
  {
   "cell_type": "markdown",
   "metadata": {},
   "source": [
    "Ex. $$φ = (x1 ∨ x2 ∨ x3) ∧ (-x1 ∨ x2 ∨ x3) ∧ (x1 ∨ -x2 ∨ x3) ∧ (-x1 ∨ x2 ∨ -x3)$$"
   ]
  },
  {
   "cell_type": "code",
   "execution_count": 178,
   "metadata": {},
   "outputs": [],
   "source": [
    "import numpy as np\n",
    "import sympy\n",
    "import re"
   ]
  },
  {
   "cell_type": "code",
   "execution_count": 179,
   "metadata": {},
   "outputs": [
    {
     "data": {
      "text/plain": [
       "array([[0, 0, 0],\n",
       "       [0, 0, 0],\n",
       "       [0, 0, 0],\n",
       "       [0, 0, 0]])"
      ]
     },
     "metadata": {},
     "output_type": "display_data"
    }
   ],
   "source": [
    "num_x = 3\n",
    "num_m = 4\n",
    "phi_matrix = np.zeros((num_m, num_x), dtype=int)\n",
    "display(phi_matrix) # phi_matrix[clause][x]"
   ]
  },
  {
   "cell_type": "markdown",
   "metadata": {},
   "source": [
    "x presents in each clause"
   ]
  },
  {
   "cell_type": "code",
   "execution_count": 180,
   "metadata": {},
   "outputs": [
    {
     "data": {
      "text/plain": [
       "array([[1, 1, 1],\n",
       "       [1, 1, 1],\n",
       "       [1, 1, 1],\n",
       "       [1, 1, 1]])"
      ]
     },
     "metadata": {},
     "output_type": "display_data"
    }
   ],
   "source": [
    "phi_matrix[0] = 1\n",
    "phi_matrix[1] = 1\n",
    "phi_matrix[2] = 1\n",
    "phi_matrix[3] = 1\n",
    "display(phi_matrix)"
   ]
  },
  {
   "cell_type": "markdown",
   "metadata": {},
   "source": [
    "not x in each clause"
   ]
  },
  {
   "cell_type": "code",
   "execution_count": 181,
   "metadata": {},
   "outputs": [
    {
     "data": {
      "text/plain": [
       "array([[ 1,  1,  1],\n",
       "       [-1,  1,  1],\n",
       "       [ 1, -1,  1],\n",
       "       [-1,  1, -1]])"
      ]
     },
     "metadata": {},
     "output_type": "display_data"
    }
   ],
   "source": [
    "phi_matrix[1][0] = -1\n",
    "phi_matrix[2][1] = -1\n",
    "phi_matrix[3][0] = -1\n",
    "phi_matrix[3][2] = -1\n",
    "display(phi_matrix)"
   ]
  },
  {
   "cell_type": "code",
   "execution_count": 182,
   "metadata": {},
   "outputs": [],
   "source": [
    "def problem_3SAT_to_QUBO(phi_matrix):\n",
    "    num_x = phi_matrix.shape[1] # Phi matrix Column\n",
    "    x = sympy.symbols(f'x0:{num_x}') # x0, x1, ... x_num_x -1\n",
    "    num_m = phi_matrix.shape[0] # Phi matrix Row\n",
    "    w = sympy.symbols(f'w0:{num_m}') # w0, w1, ... w_num_m - 1\n",
    "    QUBO_matrix = np.zeros((num_x + num_m, num_x + num_m), dtype=int)\n",
    "    sum_g = 0\n",
    "\n",
    "    error = False\n",
    "    \n",
    "    for i in range(num_m):\n",
    "        x_array = phi_matrix[i]\n",
    "        x_presents_indices = np.where(x_array != 0)[0]\n",
    "        # Make sure each clause has only 3 literals\n",
    "        if (x_presents_indices.shape[0] != 3):\n",
    "            error = True\n",
    "            break\n",
    "\n",
    "        y_i1 = x[x_presents_indices[0]] if (x_array[x_presents_indices[0]] == 1) else (1 + (-1 * x[x_presents_indices[0]]))\n",
    "        y_i2 = x[x_presents_indices[1]] if (x_array[x_presents_indices[1]] == 1) else (1 + (-1 * x[x_presents_indices[1]]))\n",
    "        y_i3 = x[x_presents_indices[2]] if (x_array[x_presents_indices[2]] == 1) else (1 + (-1 * x[x_presents_indices[2]]))\n",
    "        sum_g += y_i1 + y_i2 + y_i3 + (w[i] * y_i1) + (w[i] * y_i2) + (w[i] * y_i3) - (y_i1 * y_i2) - (y_i1 * y_i3) - (y_i2 * y_i3) - 2 * w[i]\n",
    "    \n",
    "    sum_neg_g = sympy.simplify(-1 * sum_g)\n",
    "    sum_neg_g_dict = {str(term): coefficient for term, coefficient in sum_neg_g.as_coefficients_dict().items()}\n",
    "\n",
    "    # for i in range(num_x + num_m):\n",
    "    #     for j in range(i, num_x + num_m):\n",
    "    #             if (i == j and i >= num_x): # Skip w[i] * w[j] (These terms do not appear), Only consider w[i==j]\n",
    "    #                 QUBO_matrix[i][j] = 1\n",
    "    #                 break\n",
    "    #             elif (i == j): # x[i]\n",
    "    #                 QUBO_matrix[i][j] = 2\n",
    "    #             elif (j < num_x): # x[i] * x[j]\n",
    "    #                 QUBO_matrix[i][j] = 3\n",
    "    #             elif (j >= num_x): # x[i] * w[j]\n",
    "    #                 QUBO_matrix[i][j] = 4\n",
    "\n",
    "    for term in sum_neg_g_dict:\n",
    "        # print(f'{term}: {sum_neg_g_dict[term]}')\n",
    "        if re.match(r'^w\\d+$', term): # w[i]\n",
    "            i = int(term[1:]) + num_x\n",
    "            j = int(term[1:]) + num_x\n",
    "            QUBO_matrix[i][j] = sum_neg_g_dict[term]\n",
    "        elif re.match(r'^x\\d+$', term): # x[i]\n",
    "            i = int(term[1:])\n",
    "            j = int(term[1:])\n",
    "            QUBO_matrix[i][j] = sum_neg_g_dict[term]\n",
    "        elif re.match(r'^w(0|[1-9][0-9]*)\\*x(\\d+)$', term): # w[i] * x[j]\n",
    "            match = re.match(r'^w(0|[1-9][0-9]*)\\*x(\\d+)$', term)\n",
    "            w_number = int(match.group(1))\n",
    "            x_number = int(match.group(2))\n",
    "            QUBO_matrix[x_number][w_number + num_x] = sum_neg_g_dict[term]\n",
    "        elif re.match(r'^x(0|[1-9][0-9]*)\\*x(\\d+)$', term): # x[i] * x[j]\n",
    "            match = re.match(r'^x(0|[1-9][0-9]*)\\*x(\\d+)$', term)\n",
    "            first_x_number = int(match.group(1))\n",
    "            second_x_number = int(match.group(2))\n",
    "            QUBO_matrix[first_x_number][second_x_number] = sum_neg_g_dict[term]\n",
    "    \n",
    "    if (error):\n",
    "        return \"An error has occured, Make sure phi_matrix is of 3SAT kind (Only 3 literals in each clauses)\"\n",
    "    else:\n",
    "        return QUBO_matrix"
   ]
  },
  {
   "cell_type": "code",
   "execution_count": 183,
   "metadata": {},
   "outputs": [
    {
     "name": "stdout",
     "output_type": "stream",
     "text": [
      "[[ 0 -2  2 -1  1 -1  1]\n",
      " [ 0  1  0 -1 -1  1 -1]\n",
      " [ 0  0 -1 -1 -1 -1  1]\n",
      " [ 0  0  0  2  0  0  0]\n",
      " [ 0  0  0  0  1  0  0]\n",
      " [ 0  0  0  0  0  1  0]\n",
      " [ 0  0  0  0  0  0  0]]\n"
     ]
    }
   ],
   "source": [
    "print(problem_3SAT_to_QUBO(phi_matrix))"
   ]
  },
  {
   "cell_type": "markdown",
   "metadata": {},
   "source": [
    "Solve for QUBO(F(phi)) -> min [x, w]^T F(phi) [x, w]"
   ]
  }
 ],
 "metadata": {
  "kernelspec": {
   "display_name": "myown_env",
   "language": "python",
   "name": "python3"
  },
  "language_info": {
   "codemirror_mode": {
    "name": "ipython",
    "version": 3
   },
   "file_extension": ".py",
   "mimetype": "text/x-python",
   "name": "python",
   "nbconvert_exporter": "python",
   "pygments_lexer": "ipython3",
   "version": "3.10.9"
  }
 },
 "nbformat": 4,
 "nbformat_minor": 2
}
