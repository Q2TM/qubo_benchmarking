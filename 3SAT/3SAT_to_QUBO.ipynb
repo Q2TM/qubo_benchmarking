{
 "cells": [
  {
   "cell_type": "markdown",
   "metadata": {},
   "source": [
    "Max3-SAT_to_QUBO"
   ]
  },
  {
   "cell_type": "markdown",
   "metadata": {},
   "source": [
    "Construct QUBO matrix for 3SAT\n",
    "From:\n",
    "$$\n",
    "-g(x,w) = K + [x, w]^T F(phi) [x, w] \n",
    "$$"
   ]
  },
  {
   "cell_type": "markdown",
   "metadata": {},
   "source": [
    "Ex.\n",
    "$$\n",
    "-g(x, w) = -4 + 0x_1 - 2x_1x_2 + 2x_1x_3 - x_1w_1 + x_1w_2 - x_1w_3 + x_1w_4 \\\\\n",
    "+ x_2 - 0x_2x_3 - x_2w_1 - x_2w_2 + x_2w_3 - x_2w_4 - x_3 - x_3w_1 - x_3w_2 \\\\\n",
    "- x_3w_3 + x_3w_4 + 2w_1 + 0(w_1w_2 + w_1w_3 + w_1w_4) \\\\\n",
    "+ w_2 + 0(w_2w_3 + w_2w_4) + w_3 + 0w_3w_4 + 0w_4\\\\\n",
    "$$\\\\\n"
   ]
  },
  {
   "cell_type": "markdown",
   "metadata": {},
   "source": [
    "Ex. $$φ = (x1 ∨ x2 ∨ x3) ∧ (-x1 ∨ x2 ∨ x3) ∧ (x1 ∨ -x2 ∨ x3) ∧ (-x1 ∨ x2 ∨ -x3)$$"
   ]
  },
  {
   "cell_type": "code",
   "execution_count": 1,
   "metadata": {},
   "outputs": [],
   "source": [
    "import numpy as np\n",
    "from numpy.typing import NDArray\n",
    "import sympy\n",
    "import re"
   ]
  },
  {
   "cell_type": "code",
   "execution_count": 2,
   "metadata": {},
   "outputs": [
    {
     "data": {
      "text/plain": [
       "array([[0, 0, 0],\n",
       "       [0, 0, 0],\n",
       "       [0, 0, 0],\n",
       "       [0, 0, 0]])"
      ]
     },
     "metadata": {},
     "output_type": "display_data"
    }
   ],
   "source": [
    "num_x = 3\n",
    "num_m = 4\n",
    "phi_matrix = np.zeros((num_m, num_x), dtype=int)\n",
    "display(phi_matrix) # phi_matrix[clause][x]"
   ]
  },
  {
   "cell_type": "markdown",
   "metadata": {},
   "source": [
    "x presents in each clause"
   ]
  },
  {
   "cell_type": "code",
   "execution_count": 3,
   "metadata": {},
   "outputs": [
    {
     "data": {
      "text/plain": [
       "array([[1, 1, 1],\n",
       "       [1, 1, 1],\n",
       "       [1, 1, 1],\n",
       "       [1, 1, 1]])"
      ]
     },
     "metadata": {},
     "output_type": "display_data"
    }
   ],
   "source": [
    "phi_matrix[0] = 1\n",
    "phi_matrix[1] = 1\n",
    "phi_matrix[2] = 1\n",
    "phi_matrix[3] = 1\n",
    "display(phi_matrix)"
   ]
  },
  {
   "cell_type": "markdown",
   "metadata": {},
   "source": [
    "not x in each clause"
   ]
  },
  {
   "cell_type": "code",
   "execution_count": 4,
   "metadata": {},
   "outputs": [
    {
     "data": {
      "text/plain": [
       "array([[ 1,  1,  1],\n",
       "       [-1,  1,  1],\n",
       "       [ 1, -1,  1],\n",
       "       [-1,  1, -1]])"
      ]
     },
     "metadata": {},
     "output_type": "display_data"
    }
   ],
   "source": [
    "phi_matrix[1][0] = -1\n",
    "phi_matrix[2][1] = -1\n",
    "phi_matrix[3][0] = -1\n",
    "phi_matrix[3][2] = -1\n",
    "display(phi_matrix)"
   ]
  },
  {
   "cell_type": "code",
   "execution_count": 5,
   "metadata": {},
   "outputs": [],
   "source": [
    "# # phi = (x0 or x1 or x2) and (x0 or -x1 or x2)\n",
    "# num_x = 3\n",
    "# num_m = 2\n",
    "# phi_matrix = np.zeros((num_m, num_x), dtype=int)\n",
    "# phi_matrix[:] = 1\n",
    "# phi_matrix[1][1] = -1\n",
    "# display(phi_matrix) # phi_matrix[clause][x]"
   ]
  },
  {
   "cell_type": "code",
   "execution_count": 6,
   "metadata": {},
   "outputs": [],
   "source": [
    "clauses = np.array([[1, 2, 3],\n",
    "                    [-1, 2, 3],\n",
    "                    [1, -2, 3],\n",
    "                    [-1, 2, -3]])"
   ]
  },
  {
   "cell_type": "code",
   "execution_count": 7,
   "metadata": {},
   "outputs": [],
   "source": [
    "# def problem_3SAT_to_QUBO(phi_matrix: NDArray[np.int_]) -> NDArray[np.int_]: # phi_matrix[clause][x]\n",
    "#     num_x = phi_matrix.shape[1] # Phi matrix Column\n",
    "#     x = sympy.symbols(f'x0:{num_x}') # x0, x1, ... x_num_x -1\n",
    "#     num_m = phi_matrix.shape[0] # Phi matrix Row\n",
    "#     w = sympy.symbols(f'w0:{num_m}') # w0, w1, ... w_num_m - 1\n",
    "#     QUBO_matrix = np.zeros((num_x + num_m, num_x + num_m), dtype=int)\n",
    "#     sum_g = 0\n",
    "\n",
    "#     error = False\n",
    "    \n",
    "#     for i in range(num_m):\n",
    "#         x_array = phi_matrix[i]\n",
    "#         x_presents_indices = np.where(x_array != 0)[0]\n",
    "#         # Make sure each clause has only 3 literals\n",
    "#         if (x_presents_indices.shape[0] != 3):\n",
    "#             error = True\n",
    "#             break\n",
    "\n",
    "#         y_i1 = x[x_presents_indices[0]] if (x_array[x_presents_indices[0]] == 1) else (1 + (-1 * x[x_presents_indices[0]]))\n",
    "#         y_i2 = x[x_presents_indices[1]] if (x_array[x_presents_indices[1]] == 1) else (1 + (-1 * x[x_presents_indices[1]]))\n",
    "#         y_i3 = x[x_presents_indices[2]] if (x_array[x_presents_indices[2]] == 1) else (1 + (-1 * x[x_presents_indices[2]]))\n",
    "#         sum_g += y_i1 + y_i2 + y_i3 + (w[i] * y_i1) + (w[i] * y_i2) + (w[i] * y_i3) - (y_i1 * y_i2) - (y_i1 * y_i3) - (y_i2 * y_i3) - 2 * w[i]\n",
    "    \n",
    "#     sum_neg_g = sympy.simplify(-1 * sum_g)\n",
    "#     sum_neg_g_dict = {str(term): coefficient for term, coefficient in sum_neg_g.as_coefficients_dict().items()}\n",
    "\n",
    "#     # for i in range(num_x + num_m):\n",
    "#     #     for j in range(i, num_x + num_m):\n",
    "#     #             if (i == j and i >= num_x): # Skip w[i] * w[j] (These terms do not appear), Only consider w[i==j]\n",
    "#     #                 QUBO_matrix[i][j] = 1\n",
    "#     #                 break\n",
    "#     #             elif (i == j): # x[i]\n",
    "#     #                 QUBO_matrix[i][j] = 2\n",
    "#     #             elif (j < num_x): # x[i] * x[j]\n",
    "#     #                 QUBO_matrix[i][j] = 3\n",
    "#     #             elif (j >= num_x): # x[i] * w[j]\n",
    "#     #                 QUBO_matrix[i][j] = 4\n",
    "\n",
    "#     for term in sum_neg_g_dict:\n",
    "#         # print(f'{term}: {sum_neg_g_dict[term]}')\n",
    "#         if re.match(r'^w\\d+$', term): # w[i]\n",
    "#             i = int(term[1:]) + num_x\n",
    "#             j = int(term[1:]) + num_x\n",
    "#             QUBO_matrix[i][j] = sum_neg_g_dict[term]\n",
    "#         elif re.match(r'^x\\d+$', term): # x[i]\n",
    "#             i = int(term[1:])\n",
    "#             j = int(term[1:])\n",
    "#             QUBO_matrix[i][j] = sum_neg_g_dict[term]\n",
    "#         elif re.match(r'^w(0|[1-9][0-9]*)\\*x(\\d+)$', term): # w[i] * x[j]\n",
    "#             match = re.match(r'^w(0|[1-9][0-9]*)\\*x(\\d+)$', term)\n",
    "#             w_number = int(match.group(1))\n",
    "#             x_number = int(match.group(2))\n",
    "#             QUBO_matrix[x_number][w_number + num_x] = sum_neg_g_dict[term]\n",
    "#         elif re.match(r'^x(0|[1-9][0-9]*)\\*x(\\d+)$', term): # x[i] * x[j]\n",
    "#             match = re.match(r'^x(0|[1-9][0-9]*)\\*x(\\d+)$', term)\n",
    "#             first_x_number = int(match.group(1))\n",
    "#             second_x_number = int(match.group(2))\n",
    "#             QUBO_matrix[first_x_number][second_x_number] = sum_neg_g_dict[term]\n",
    "    \n",
    "#     if (error):\n",
    "#         return \"An error has occured, Make sure phi_matrix is of 3SAT kind (Only 3 literals in each clauses)\"\n",
    "#     else:\n",
    "#         return QUBO_matrix"
   ]
  },
  {
   "cell_type": "code",
   "execution_count": 8,
   "metadata": {},
   "outputs": [],
   "source": [
    "# QUBO_matrix = problem_3SAT_to_QUBO(phi_matrix)\n",
    "# print(QUBO_matrix)"
   ]
  },
  {
   "cell_type": "code",
   "execution_count": 9,
   "metadata": {},
   "outputs": [],
   "source": [
    "def problem_3SAT_to_QUBO(clauses: NDArray[np.int_], num_literals: int) -> tuple[NDArray[np.int_], int]:\n",
    "    num_x = num_literals \n",
    "    x = sympy.symbols(f'x0:{num_x}') # x0, x1, ... x_num_x -1\n",
    "    num_m = clauses.shape[0] # clauses matrix Row\n",
    "    w = sympy.symbols(f'w0:{num_m}') # w0, w1, ... w_num_m - 1\n",
    "    QUBO_matrix = np.zeros((num_x + num_m, num_x + num_m), dtype=int)\n",
    "    sum_g = 0\n",
    "\n",
    "    error = False\n",
    "    \n",
    "    for i in range(num_m):\n",
    "        x_array = clauses[i]\n",
    "        # Make sure each clause is within specified literals.\n",
    "        if (x_array[np.abs(x_array) > num_x].size > 0):\n",
    "            error = True\n",
    "            break\n",
    "\n",
    "        y_i1 = x[x_array[0] - 1] if (x_array[0] > 0) else (1 + (-1 * x[x_array[0] * -1 - 1]))\n",
    "        y_i2 = x[x_array[1] - 1] if (x_array[1] > 0) else (1 + (-1 * x[x_array[1] * -1 - 1]))\n",
    "        y_i3 = x[x_array[2] - 1] if (x_array[2] > 0) else (1 + (-1 * x[x_array[2] * -1 - 1]))\n",
    "        sum_g += y_i1 + y_i2 + y_i3 + (w[i] * y_i1) + (w[i] * y_i2) + (w[i] * y_i3) - (y_i1 * y_i2) - (y_i1 * y_i3) - (y_i2 * y_i3) - 2 * w[i]\n",
    "    \n",
    "    sum_neg_g = sympy.simplify(-1 * sum_g)\n",
    "    sum_neg_g_dict = {str(term): coefficient for term, coefficient in sum_neg_g.as_coefficients_dict().items()}\n",
    "\n",
    "    # for i in range(num_x + num_m):\n",
    "    #     for j in range(i, num_x + num_m):\n",
    "    #             if (i == j and i >= num_x): # Skip w[i] * w[j] (These terms do not appear), Only consider w[i==j]\n",
    "    #                 QUBO_matrix[i][j] = 1\n",
    "    #                 break\n",
    "    #             elif (i == j): # x[i]\n",
    "    #                 QUBO_matrix[i][j] = 2\n",
    "    #             elif (j < num_x): # x[i] * x[j]\n",
    "    #                 QUBO_matrix[i][j] = 3\n",
    "    #             elif (j >= num_x): # x[i] * w[j]\n",
    "    #                 QUBO_matrix[i][j] = 4\n",
    "\n",
    "    for term in sum_neg_g_dict:\n",
    "        # print(f'{term}: {sum_neg_g_dict[term]}')\n",
    "        if re.match(r'^w\\d+$', term): # w[i]\n",
    "            i = int(term[1:]) + num_x\n",
    "            j = int(term[1:]) + num_x\n",
    "            QUBO_matrix[i][j] = sum_neg_g_dict[term]\n",
    "        elif re.match(r'^x\\d+$', term): # x[i]\n",
    "            i = int(term[1:])\n",
    "            j = int(term[1:])\n",
    "            QUBO_matrix[i][j] = sum_neg_g_dict[term]\n",
    "        elif re.match(r'^w(0|[1-9][0-9]*)\\*x(\\d+)$', term): # w[i] * x[j]\n",
    "            match = re.match(r'^w(0|[1-9][0-9]*)\\*x(\\d+)$', term)\n",
    "            w_number = int(match.group(1))\n",
    "            x_number = int(match.group(2))\n",
    "            QUBO_matrix[x_number][w_number + num_x] = sum_neg_g_dict[term]\n",
    "        elif re.match(r'^x(0|[1-9][0-9]*)\\*x(\\d+)$', term): # x[i] * x[j]\n",
    "            match = re.match(r'^x(0|[1-9][0-9]*)\\*x(\\d+)$', term)\n",
    "            first_x_number = int(match.group(1))\n",
    "            second_x_number = int(match.group(2))\n",
    "            QUBO_matrix[first_x_number][second_x_number] = sum_neg_g_dict[term]\n",
    "        elif re.match(r'^1$', term):\n",
    "            K = sum_neg_g_dict[term]\n",
    "    \n",
    "    if (error):\n",
    "        return \"An error has occured, Make sure the literals in each clause are within the specified literals.\"\n",
    "    else:\n",
    "        return QUBO_matrix, K"
   ]
  },
  {
   "cell_type": "code",
   "execution_count": 10,
   "metadata": {},
   "outputs": [
    {
     "name": "stdout",
     "output_type": "stream",
     "text": [
      "[[ 0 -2  2 -1  1 -1  1]\n",
      " [ 0  1  0 -1 -1  1 -1]\n",
      " [ 0  0 -1 -1 -1 -1  1]\n",
      " [ 0  0  0  2  0  0  0]\n",
      " [ 0  0  0  0  1  0  0]\n",
      " [ 0  0  0  0  0  1  0]\n",
      " [ 0  0  0  0  0  0  0]]\n",
      "K =  -3\n"
     ]
    }
   ],
   "source": [
    "QUBO_matrix, K = problem_3SAT_to_QUBO(clauses, 3)\n",
    "print(QUBO_matrix)\n",
    "print(\"K = \", K)"
   ]
  },
  {
   "cell_type": "code",
   "execution_count": 11,
   "metadata": {},
   "outputs": [],
   "source": [
    "def bruteForce(QUBO_matrix: NDArray[np.int_]) -> tuple[NDArray[np.int_], int]:\n",
    "    num_x = QUBO_matrix.shape[0]\n",
    "    min_energy = np.inf\n",
    "    min_x = np.zeros(num_x, dtype=int)\n",
    "    for i in range(2 ** num_x):\n",
    "        x = np.array([int(x) for x in bin(i)[2:].zfill(num_x)]) # Convert to binary and fill with 0s\n",
    "        energy = np.sum(np.dot(x, QUBO_matrix).dot(x))\n",
    "        if (energy < min_energy):\n",
    "            min_energy = energy\n",
    "            min_x = x\n",
    "    return min_x, min_energy"
   ]
  },
  {
   "cell_type": "code",
   "execution_count": 12,
   "metadata": {},
   "outputs": [
    {
     "name": "stdout",
     "output_type": "stream",
     "text": [
      "[0 0 1 0 0 0 0]\n",
      "-1\n",
      "Max clauses satisfied:  4\n"
     ]
    }
   ],
   "source": [
    "min_x, min_energy = bruteForce(QUBO_matrix)\n",
    "print(min_x)\n",
    "print(min_energy)\n",
    "print(\"Max clauses satisfied: \", (K + min_energy) * -1)"
   ]
  },
  {
   "cell_type": "markdown",
   "metadata": {},
   "source": [
    "Solve for QUBO(F(phi)) -> min [x, w]^T F(phi) [x, w]"
   ]
  },
  {
   "cell_type": "code",
   "execution_count": 13,
   "metadata": {},
   "outputs": [
    {
     "name": "stdout",
     "output_type": "stream",
     "text": [
      "Problem name: \n",
      "\n",
      "Minimize\n",
      "  -2*x0*x1 + 2*x0*x2 - x0*x3 + x0*x4 - x0*x5 + x0*x6 + x1^2 - x1*x3 - x1*x4\n",
      "  + x1*x5 - x1*x6 - x2^2 - x2*x3 - x2*x4 - x2*x5 + x2*x6 + 2*x3^2 + x4^2 + x5^2\n",
      "\n",
      "Subject to\n",
      "  No constraints\n",
      "\n",
      "  Binary variables (7)\n",
      "    x0 x1 x2 x3 x4 x5 x6\n",
      "\n",
      "objective function value: -1.0\n",
      "variable values: x0=1.0, x1=1.0, x2=1.0, x3=1.0, x4=1.0, x5=1.0, x6=0.0\n",
      "status: SUCCESS\n",
      "{'x0': 1.0, 'x1': 1.0, 'x2': 1.0, 'x3': 1.0, 'x4': 1.0, 'x5': 1.0, 'x6': 0.0}\n"
     ]
    }
   ],
   "source": [
    "from qiskit_algorithms import NumPyMinimumEigensolver\n",
    "from qiskit_optimization.algorithms import MinimumEigenOptimizer\n",
    "from qiskit_optimization.converters import QuadraticProgramToQubo\n",
    "from qiskit_optimization.algorithms import MinimumEigenOptimizer\n",
    "from qiskit_algorithms import NumPyMinimumEigensolver\n",
    "from qiskit_optimization.converters import QuadraticProgramToQubo\n",
    "from qiskit_optimization import QuadraticProgram\n",
    "\n",
    "qp = QuadraticProgram()\n",
    "for i in range(QUBO_matrix.shape[0]):\n",
    "    qp.binary_var(f'x{i}')\n",
    "\n",
    "\n",
    "qp.minimize(quadratic=QUBO_matrix)\n",
    "print(qp.prettyprint())\n",
    "qp2qubo = QuadraticProgramToQubo()\n",
    "qubo = qp2qubo.convert(qp)\n",
    "qubitOp, offset = qubo.to_ising()\n",
    "\n",
    "\n",
    "exact = MinimumEigenOptimizer(NumPyMinimumEigensolver())\n",
    "\n",
    "result = exact.solve(qubo)\n",
    "print(result.prettyprint())\n",
    "print(result.variables_dict)"
   ]
  },
  {
   "cell_type": "code",
   "execution_count": 14,
   "metadata": {},
   "outputs": [],
   "source": [
    "from amplify import VariableGenerator, solve\n",
    "import sys\n",
    "sys.path.append('../') # To use Utils\n",
    "from Utils.solvers import GetFixstarClient, GetGurobiClient, GetDWaveClient"
   ]
  },
  {
   "cell_type": "markdown",
   "metadata": {},
   "source": [
    "QUBO_matrix to model"
   ]
  },
  {
   "cell_type": "code",
   "execution_count": 15,
   "metadata": {},
   "outputs": [],
   "source": [
    "def QUBO_matrix_to_model(QUBO_matrix: np.ndarray, weight=1):\n",
    "    size = QUBO_matrix.shape[0] # [n+m]\n",
    "    gen = VariableGenerator()\n",
    "    model = gen.matrix(\"Binary\", size)\n",
    "    q = model.quadratic\n",
    "    for i in range(size):\n",
    "        for j in range(size):\n",
    "            q[i][j] = QUBO_matrix[i][j]\n",
    "    return model"
   ]
  },
  {
   "cell_type": "code",
   "execution_count": 16,
   "metadata": {},
   "outputs": [
    {
     "name": "stdout",
     "output_type": "stream",
     "text": [
      "(x^T) Q x + (p^T) x + c\n",
      "where:\n",
      "  x = [q_0, q_1, q_2, q_3, q_4, q_5, q_6],\n",
      "  Q = [[ 0., -2.,  2., -1.,  1., -1.,  1.],\n",
      "       [ 0.,  1.,  0., -1., -1.,  1., -1.],\n",
      "       [ 0.,  0., -1., -1., -1., -1.,  1.],\n",
      "       [ 0.,  0.,  0.,  2.,  0.,  0.,  0.],\n",
      "       [ 0.,  0.,  0.,  0.,  1.,  0.,  0.],\n",
      "       [ 0.,  0.,  0.,  0.,  0.,  1.,  0.],\n",
      "       [ 0.,  0.,  0.,  0.,  0.,  0.,  0.]],\n",
      "  p = [ 0.,  0.,  0.,  0.,  0.,  0.,  0.],\n",
      "  c = 0\n"
     ]
    }
   ],
   "source": [
    "model = QUBO_matrix_to_model(QUBO_matrix)\n",
    "print(model)"
   ]
  },
  {
   "cell_type": "markdown",
   "metadata": {},
   "source": [
    "FixStar"
   ]
  },
  {
   "cell_type": "code",
   "execution_count": 17,
   "metadata": {},
   "outputs": [
    {
     "name": "stdout",
     "output_type": "stream",
     "text": [
      "-1.0\n",
      "{q_0: 1, q_1: 1, q_2: 1, q_3: 1, q_4: 1, q_5: 0, q_6: 0}\n",
      "Max clauses satisfied:  4.00000000000000\n"
     ]
    }
   ],
   "source": [
    "clientFS = GetFixstarClient()\n",
    "resultFS = solve(model, clientFS)\n",
    "\n",
    "print(resultFS.best.objective)\n",
    "print(resultFS.best.values)\n",
    "print(\"Max clauses satisfied: \", ((K + resultFS.best.objective) * -1))"
   ]
  },
  {
   "cell_type": "markdown",
   "metadata": {},
   "source": [
    "Gurobi"
   ]
  },
  {
   "cell_type": "code",
   "execution_count": 18,
   "metadata": {},
   "outputs": [
    {
     "name": "stdout",
     "output_type": "stream",
     "text": [
      "-1.0\n",
      "{q_0: 1, q_1: 1, q_2: 0, q_3: 1, q_4: 0, q_5: 0, q_6: 0}\n",
      "Max clauses satisfied:  4.00000000000000\n"
     ]
    }
   ],
   "source": [
    "clientG = GetGurobiClient()\n",
    "resultG = solve(model, clientG)\n",
    "\n",
    "print(resultG.best.objective)\n",
    "print(resultG.best.values)\n",
    "print(\"Max clauses satisfied: \", ((K + resultG.best.objective) * -1))"
   ]
  },
  {
   "cell_type": "code",
   "execution_count": 19,
   "metadata": {},
   "outputs": [
    {
     "name": "stdout",
     "output_type": "stream",
     "text": [
      "-1.0\n",
      "{q_0: 1, q_1: 1, q_2: 1, q_3: 1, q_4: 1, q_5: 1, q_6: 0}\n",
      "Max clauses satisfied:  4.00000000000000\n"
     ]
    }
   ],
   "source": [
    "clientDWave = GetDWaveClient()\n",
    "resultDWave = solve(model, clientDWave)\n",
    "\n",
    "print(resultDWave.best.objective)\n",
    "print(resultDWave.best.values)\n",
    "print(\"Max clauses satisfied: \", ((K + resultDWave.best.objective) * -1))"
   ]
  },
  {
   "cell_type": "code",
   "execution_count": 20,
   "metadata": {},
   "outputs": [
    {
     "name": "stdout",
     "output_type": "stream",
     "text": [
      "QUBO matrix: {('x[5]', 'x[1]'): 1.0, ('x[5]', 'x[2]'): -1.0, ('x[2]', 'x[6]'): 1.0, ('x[5]', 'x[0]'): -1.0, ('x[4]', 'x[2]'): -1.0, ('x[2]', 'x[2]'): -1.0, ('x[4]', 'x[1]'): -1.0, ('x[5]', 'x[5]'): 1.0, ('x[6]', 'x[0]'): 1.0, ('x[6]', 'x[1]'): -1.0, ('x[3]', 'x[1]'): -1.0, ('x[4]', 'x[4]'): 1.0, ('x[3]', 'x[3]'): 2.0, ('x[1]', 'x[0]'): 2.0, ('x[2]', 'x[0]'): 2.0, ('x[3]', 'x[2]'): -1.0, ('x[4]', 'x[0]'): 1.0, ('x[1]', 'x[1]'): 1.0, ('x[3]', 'x[0]'): -1.0}\n",
      "Solution: {'x[0]': 0, 'x[1]': 1, 'x[2]': 1, 'x[3]': 0, 'x[4]': 1, 'x[5]': 0, 'x[6]': 1}\n",
      "Minimum value of the equation (energy): -1.0\n",
      "Max clauses satisfied:  4.00000000000000\n"
     ]
    },
    {
     "name": "stderr",
     "output_type": "stream",
     "text": [
      "C:\\Users\\Asus\\AppData\\Local\\Temp\\ipykernel_20212\\3341007119.py:14: DeprecationWarning: Call to deprecated function (or staticmethod) solve_qubo. (You should use simulated annealing sampler of dwave-neal directly.) -- Deprecated since version 0.4.0.\n",
      "  solution = solve_qubo(qubo)\n"
     ]
    }
   ],
   "source": [
    "from pyqubo import Array, solve_qubo\n",
    "#-2*x0*x1 + 2*x0*x2 - x0*x3 + x0*x4 - x0*x5 + x0*x6 + x1^2 - x1*x3 - x1*x4 + x1*x5 - x1*x6 - x2^2 - x2*x3 - x2*x4 - x2*x5 + x2*x6 + 2*x3^2 + x4^2 + x5^2\n",
    "# Define binary variables\n",
    "x = Array.create('x', shape=7, vartype='BINARY')\n",
    "\n",
    "# Create a QUBO model\n",
    "H = 2*x[0]*x[1] + 2*x[0]*x[2] - x[0]*x[3] + x[0]*x[4] - x[0]*x[5] + x[0]*x[6] + x[1]**2 - x[1]*x[3] - x[1]*x[4] + x[1]*x[5] - x[1]*x[6] - x[2]**2 - x[2]*x[3] - x[2]*x[4] - x[2]*x[5] + x[2]*x[6] + 2*x[3]**2 + x[4]**2 + x[5]**2\n",
    "\n",
    "# Compile the model\n",
    "model = H.compile()\n",
    "qubo, offset = model.to_qubo()\n",
    "print(\"QUBO matrix:\", qubo)\n",
    "\n",
    "solution = solve_qubo(qubo)\n",
    "print(\"Solution:\", solution)\n",
    "\n",
    "energy = model.energy(solution, vartype='BINARY')\n",
    "\n",
    "# Print the minimum energy (value of the equation)\n",
    "print(\"Minimum value of the equation (energy):\", energy)\n",
    "print(\"Max clauses satisfied: \", ((K + energy) * -1))"
   ]
  },
  {
   "cell_type": "markdown",
   "metadata": {},
   "source": [
    "CNF to clauses"
   ]
  },
  {
   "cell_type": "code",
   "execution_count": 21,
   "metadata": {},
   "outputs": [],
   "source": [
    "def read_cnf_file(filename: str) -> tuple[NDArray[np.int_], int, int]:\n",
    "    clauses = []\n",
    "\n",
    "    with open(filename, 'r') as file:\n",
    "        for line in file:\n",
    "            # Skip comment lines\n",
    "            if line.startswith('c'):\n",
    "                continue\n",
    "            \n",
    "            # Read the problem line to get the number of variables\n",
    "            if line.startswith('p cnf'):\n",
    "                parts = line.split()\n",
    "                num_n = int(parts[2])\n",
    "                num_m = int(parts[3])\n",
    "                continue\n",
    "            \n",
    "            # Read clauses\n",
    "            clause = [x for x in line.split() if x != \"0\"]  # Skip the trailing 0\n",
    "            if (len(clause) == 3):\n",
    "                clauses.append(clause)\n",
    "    \n",
    "    return np.array(clauses, dtype=\"int\"), num_n, num_m\n"
   ]
  },
  {
   "cell_type": "code",
   "execution_count": 22,
   "metadata": {},
   "outputs": [],
   "source": [
    "# def clauses_to_phi_matrix(clauses: NDArray[np.int_], num_n: int) -> NDArray[np.int_]:\n",
    "#     phi_matrix = np.zeros((clauses.shape[0], num_n), dtype=int)\n",
    "\n",
    "#     # Populate the matrix based on literals in each clause\n",
    "#     for i, clause in enumerate(clauses):\n",
    "#         for literal in clause:\n",
    "#             if literal > 0:\n",
    "#                 phi_matrix[i, literal - 1] = 1  # Positive literal\n",
    "#             elif literal < 0:\n",
    "#                 phi_matrix[i, abs(literal) - 1] = -1  # Negative literal\n",
    "                \n",
    "#     return np.array(phi_matrix, dtype=\"int\")"
   ]
  },
  {
   "cell_type": "code",
   "execution_count": 23,
   "metadata": {},
   "outputs": [],
   "source": [
    "filename = 'TestSets\\\\Satisfiable\\\\uf20-91\\\\uf20-01.cnf'\n",
    "clauses, num_n, num_m = read_cnf_file(filename)"
   ]
  },
  {
   "cell_type": "code",
   "execution_count": 24,
   "metadata": {},
   "outputs": [
    {
     "name": "stdout",
     "output_type": "stream",
     "text": [
      "20 91\n"
     ]
    }
   ],
   "source": [
    "print(num_n, num_m)"
   ]
  },
  {
   "cell_type": "code",
   "execution_count": 25,
   "metadata": {},
   "outputs": [
    {
     "name": "stdout",
     "output_type": "stream",
     "text": [
      "Clauses:\n",
      "[[  4 -18  19]\n",
      " [  3  18  -5]\n",
      " [ -5  -8 -15]\n",
      " [-20   7 -16]\n",
      " [ 10 -13  -7]\n",
      " [-12  -9  17]\n",
      " [ 17  19   5]\n",
      " [-16   9  15]\n",
      " [ 11  -5 -14]\n",
      " [ 18 -10  13]\n",
      " [ -3  11  12]\n",
      " [ -6 -17  -8]\n",
      " [-18  14   1]\n",
      " [-19 -15  10]\n",
      " [ 12  18 -19]\n",
      " [ -8   4   7]\n",
      " [ -8  -9   4]\n",
      " [  7  17 -15]\n",
      " [ 12  -7 -14]\n",
      " [-10 -11   8]\n",
      " [  2 -15 -11]\n",
      " [  9   6   1]\n",
      " [-11  20 -17]\n",
      " [  9 -15  13]\n",
      " [ 12  -7 -17]\n",
      " [-18  -2  20]\n",
      " [ 20  12   4]\n",
      " [ 19  11  14]\n",
      " [-16  18  -4]\n",
      " [ -1 -17 -19]\n",
      " [-13  15  10]\n",
      " [-12 -14 -13]\n",
      " [ 12 -14  -7]\n",
      " [ -7  16  10]\n",
      " [  6  10   7]\n",
      " [ 20  14 -16]\n",
      " [-19  17  11]\n",
      " [ -7   1 -20]\n",
      " [ -5  12  15]\n",
      " [ -4  -9 -13]\n",
      " [ 12 -11  -7]\n",
      " [ -5  19  -8]\n",
      " [  1  16  17]\n",
      " [ 20 -14 -15]\n",
      " [ 13  -4  10]\n",
      " [ 14   7  10]\n",
      " [ -5   9  20]\n",
      " [ 10   1 -19]\n",
      " [-16 -15  -1]\n",
      " [ 16   3 -11]\n",
      " [-15 -10   4]\n",
      " [  4 -15  -3]\n",
      " [-10 -16  11]\n",
      " [ -8  12  -5]\n",
      " [ 14  -6  12]\n",
      " [  1   6  11]\n",
      " [-13  -5  -1]\n",
      " [ -7  -2  12]\n",
      " [  1 -20  19]\n",
      " [ -2 -13  -8]\n",
      " [ 15  18   4]\n",
      " [-11  14   9]\n",
      " [ -6 -15  -2]\n",
      " [  5 -12 -15]\n",
      " [ -6  17   5]\n",
      " [-13   5 -19]\n",
      " [ 20  -1  14]\n",
      " [  9 -17  15]\n",
      " [ -5  19 -18]\n",
      " [-12   8 -10]\n",
      " [-18  14  -4]\n",
      " [ 15  -9  13]\n",
      " [  9  -5  -1]\n",
      " [ 10 -19 -14]\n",
      " [ 20   9   4]\n",
      " [ -9  -2  19]\n",
      " [ -5  13 -17]\n",
      " [  2 -10 -18]\n",
      " [-18   3  11]\n",
      " [  7  -9  17]\n",
      " [-15  -6  -3]\n",
      " [ -2   3 -13]\n",
      " [ 12   3  -2]\n",
      " [ -2  -3  17]\n",
      " [ 20 -15 -16]\n",
      " [ -5 -17 -19]\n",
      " [-20 -18  11]\n",
      " [ -9   1  -5]\n",
      " [-19   9  17]\n",
      " [ 12  -2  17]\n",
      " [  4 -16  -5]]\n"
     ]
    }
   ],
   "source": [
    "print(\"Clauses:\")\n",
    "print(clauses)"
   ]
  },
  {
   "cell_type": "code",
   "execution_count": 26,
   "metadata": {},
   "outputs": [],
   "source": [
    "# print(\"\\nMatrix:\")\n",
    "# print(phi_matrix)"
   ]
  },
  {
   "cell_type": "code",
   "execution_count": 27,
   "metadata": {},
   "outputs": [
    {
     "name": "stdout",
     "output_type": "stream",
     "text": [
      "(91, 3)\n",
      "40\n"
     ]
    }
   ],
   "source": [
    "print(clauses.shape)\n",
    "print(len(np.unique(clauses)))"
   ]
  },
  {
   "cell_type": "code",
   "execution_count": 28,
   "metadata": {},
   "outputs": [
    {
     "name": "stdout",
     "output_type": "stream",
     "text": [
      "[[-3  0  0 ...  0  0  0]\n",
      " [ 0  2 -1 ...  0  1  0]\n",
      " [ 0  0  1 ...  0  0  0]\n",
      " ...\n",
      " [ 0  0  0 ...  1  0  0]\n",
      " [ 0  0  0 ...  0  1  0]\n",
      " [ 0  0  0 ...  0  0  0]]\n",
      "K =  -70\n"
     ]
    }
   ],
   "source": [
    "QUBO_matrix, K = problem_3SAT_to_QUBO(clauses, 20)\n",
    "print(QUBO_matrix)\n",
    "print(\"K = \", K)"
   ]
  },
  {
   "cell_type": "code",
   "execution_count": 29,
   "metadata": {},
   "outputs": [
    {
     "name": "stdout",
     "output_type": "stream",
     "text": [
      "(111, 111)\n"
     ]
    }
   ],
   "source": [
    "print(QUBO_matrix.shape)"
   ]
  },
  {
   "cell_type": "markdown",
   "metadata": {},
   "source": [
    "Qiskit, too many var"
   ]
  },
  {
   "cell_type": "code",
   "execution_count": 30,
   "metadata": {},
   "outputs": [],
   "source": [
    "# qp = QuadraticProgram()\n",
    "# for i in range(QUBO_matrix.shape[0]):\n",
    "#     qp.binary_var(f'x{i}')\n",
    "\n",
    "# qp.minimize(quadratic=QUBO_matrix)\n",
    "# print(qp.prettyprint())\n",
    "# qp2qubo = QuadraticProgramToQubo()\n",
    "# qubo = qp2qubo.convert(qp)\n",
    "# qubitOp, offset = qubo.to_ising()\n",
    "\n",
    "\n",
    "# exact = MinimumEigenOptimizer(NumPyMinimumEigensolver())\n",
    "\n",
    "# result = exact.solve(qubo)\n",
    "# print(result.prettyprint())\n",
    "# print(result.variables_dict)"
   ]
  },
  {
   "cell_type": "code",
   "execution_count": 31,
   "metadata": {},
   "outputs": [
    {
     "name": "stdout",
     "output_type": "stream",
     "text": [
      "(x^T) Q x + (p^T) x + c\n",
      "where:\n",
      "  x = [    q_0,     q_1,     q_2,     q_3,     q_4,     q_5,     q_6,     q_7, \n",
      "           q_8,     q_9,  q_{10},  q_{11},  q_{12},  q_{13},  q_{14},  q_{15}, \n",
      "        q_{16},  q_{17},  q_{18},  q_{19},  q_{20},  q_{21},  q_{22},  q_{23}, \n",
      "        q_{24},  q_{25},  q_{26},  q_{27},  q_{28},  q_{29},  q_{30},  q_{31}, \n",
      "        q_{32},  q_{33},  q_{34},  q_{35},  q_{36},  q_{37},  q_{38},  q_{39}, \n",
      "        q_{40},  q_{41},  q_{42},  q_{43},  q_{44},  q_{45},  q_{46},  q_{47}, \n",
      "        q_{48},  q_{49},  q_{50},  q_{51},  q_{52},  q_{53},  q_{54},  q_{55}, \n",
      "        q_{56},  q_{57},  q_{58},  q_{59},  q_{60},  q_{61},  q_{62},  q_{63}, \n",
      "        q_{64},  q_{65},  q_{66},  q_{67},  q_{68},  q_{69},  q_{70},  q_{71}, \n",
      "        q_{72},  q_{73},  q_{74},  q_{75},  q_{76},  q_{77},  q_{78},  q_{79}, \n",
      "        q_{80},  q_{81},  q_{82},  q_{83},  q_{84},  q_{85},  q_{86},  q_{87}, \n",
      "        q_{88},  q_{89},  q_{90},  q_{91},  q_{92},  q_{93},  q_{94},  q_{95}, \n",
      "        q_{96},  q_{97},  q_{98},  q_{99}, q_{100}, q_{101}, q_{102}, q_{103}, \n",
      "       q_{104}, q_{105}, q_{106}, q_{107}, q_{108}, q_{109}, q_{110}],\n",
      "  Q = [[-3.,  0.,  0., ...,  0.,  0.,  0.],\n",
      "       [ 0.,  2., -1., ...,  0.,  1.,  0.],\n",
      "       [ 0.,  0.,  1., ...,  0.,  0.,  0.],\n",
      "       ..., \n",
      "       [ 0.,  0.,  0., ...,  1.,  0.,  0.],\n",
      "       [ 0.,  0.,  0., ...,  0.,  1.,  0.],\n",
      "       [ 0.,  0.,  0., ...,  0.,  0.,  0.]],\n",
      "  p = [ 0.,  0.,  0.,  0.,  0.,  0.,  0.,  0.,  0.,  0.,  0.,  0.,  0.,  0.,  0.,  0.,  0.,  0., \n",
      "        0.,  0.,  0.,  0.,  0.,  0.,  0.,  0.,  0.,  0.,  0.,  0.,  0.,  0.,  0.,  0.,  0.,  0., \n",
      "        0.,  0.,  0.,  0.,  0.,  0.,  0.,  0.,  0.,  0.,  0.,  0.,  0.,  0.,  0.,  0.,  0.,  0., \n",
      "        0.,  0.,  0.,  0.,  0.,  0.,  0.,  0.,  0.,  0.,  0.,  0.,  0.,  0.,  0.,  0.,  0.,  0., \n",
      "        0.,  0.,  0.,  0.,  0.,  0.,  0.,  0.,  0.,  0.,  0.,  0.,  0.,  0.,  0.,  0.,  0.,  0., \n",
      "        0.,  0.,  0.,  0.,  0.,  0.,  0.,  0.,  0.,  0.,  0.,  0.,  0.,  0.,  0.,  0.,  0.,  0., \n",
      "        0.,  0.,  0.],\n",
      "  c = 0\n"
     ]
    }
   ],
   "source": [
    "model_uf20_01 = QUBO_matrix_to_model(QUBO_matrix)\n",
    "print(model_uf20_01)"
   ]
  },
  {
   "cell_type": "code",
   "execution_count": 32,
   "metadata": {},
   "outputs": [
    {
     "name": "stderr",
     "output_type": "stream",
     "text": [
      "2024-12-13 16:51:27 [amplify:WARNING] Connection timeout, retrying after sleep 1 second (1/3)\n",
      "2024-12-13 16:51:31 [amplify:WARNING] SSL connection failed, retrying after sleep 1 second (1/3)\n"
     ]
    },
    {
     "name": "stdout",
     "output_type": "stream",
     "text": [
      "-21.0\n",
      "{q_0: 1, q_1: 0, q_2: 0, q_3: 1, q_4: 0, q_5: 0, q_6: 0, q_7: 0, q_8: 0, q_9: 1, q_{10}: 0, q_{11}: 0, q_{12}: 1, q_{13}: 1, q_{14}: 1, q_{15}: 0, q_{16}: 1, q_{17}: 0, q_{18}: 0, q_{19}: 1, q_{20}: 0, q_{21}: 0, q_{22}: 0, q_{23}: 0, q_{24}: 1, q_{25}: 1, q_{26}: 0, q_{27}: 0, q_{28}: 0, q_{29}: 0, q_{30}: 0, q_{31}: 1, q_{32}: 1, q_{33}: 1, q_{34}: 0, q_{35}: 0, q_{36}: 1, q_{37}: 0, q_{38}: 0, q_{39}: 0, q_{40}: 0, q_{41}: 0, q_{42}: 1, q_{43}: 0, q_{44}: 0, q_{45}: 1, q_{46}: 0, q_{47}: 0, q_{48}: 0, q_{49}: 0, q_{50}: 0, q_{51}: 0, q_{52}: 0, q_{53}: 0, q_{54}: 0, q_{55}: 1, q_{56}: 0, q_{57}: 0, q_{58}: 1, q_{59}: 0, q_{60}: 0, q_{61}: 0, q_{62}: 1, q_{63}: 0, q_{64}: 0, q_{65}: 1, q_{66}: 1, q_{67}: 1, q_{68}: 0, q_{69}: 0, q_{70}: 0, q_{71}: 1, q_{72}: 0, q_{73}: 0, q_{74}: 0, q_{75}: 0, q_{76}: 0, q_{77}: 1, q_{78}: 0, q_{79}: 0, q_{80}: 1, q_{81}: 1, q_{82}: 1, q_{83}: 0, q_{84}: 1, q_{85}: 0, q_{86}: 0, q_{87}: 0, q_{88}: 0, q_{89}: 0, q_{90}: 0, q_{91}: 1, q_{92}: 0, q_{93}: 0, q_{94}: 0, q_{95}: 1, q_{96}: 0, q_{97}: 0, q_{98}: 0, q_{99}: 1, q_{100}: 1, q_{101}: 0, q_{102}: 0, q_{103}: 1, q_{104}: 1, q_{105}: 1, q_{106}: 0, q_{107}: 1, q_{108}: 1, q_{109}: 1, q_{110}: 1}\n",
      "Max clauses satisfied:  91.0000000000000\n"
     ]
    }
   ],
   "source": [
    "clientFS = GetFixstarClient()\n",
    "resultFS = solve(model_uf20_01, clientFS)\n",
    "\n",
    "min_energy = resultFS.best.objective\n",
    "print(min_energy)\n",
    "print(resultFS.best.values)\n",
    "print(\"Max clauses satisfied: \", ((K + min_energy) * -1))"
   ]
  },
  {
   "cell_type": "code",
   "execution_count": 33,
   "metadata": {},
   "outputs": [
    {
     "name": "stdout",
     "output_type": "stream",
     "text": [
      "-21.0\n",
      "{q_0: 1, q_1: 0, q_2: 0, q_3: 1, q_4: 0, q_5: 1, q_6: 0, q_7: 0, q_8: 0, q_9: 0, q_{10}: 0, q_{11}: 0, q_{12}: 1, q_{13}: 1, q_{14}: 1, q_{15}: 0, q_{16}: 1, q_{17}: 0, q_{18}: 0, q_{19}: 1, q_{20}: 0, q_{21}: 0, q_{22}: 0, q_{23}: 0, q_{24}: 0, q_{25}: 1, q_{26}: 0, q_{27}: 1, q_{28}: 0, q_{29}: 1, q_{30}: 0, q_{31}: 0, q_{32}: 1, q_{33}: 0, q_{34}: 0, q_{35}: 0, q_{36}: 1, q_{37}: 0, q_{38}: 0, q_{39}: 0, q_{40}: 0, q_{41}: 1, q_{42}: 0, q_{43}: 0, q_{44}: 0, q_{45}: 1, q_{46}: 0, q_{47}: 0, q_{48}: 0, q_{49}: 0, q_{50}: 0, q_{51}: 0, q_{52}: 0, q_{53}: 0, q_{54}: 0, q_{55}: 1, q_{56}: 0, q_{57}: 0, q_{58}: 1, q_{59}: 0, q_{60}: 0, q_{61}: 0, q_{62}: 1, q_{63}: 0, q_{64}: 0, q_{65}: 0, q_{66}: 1, q_{67}: 1, q_{68}: 0, q_{69}: 0, q_{70}: 0, q_{71}: 0, q_{72}: 0, q_{73}: 0, q_{74}: 0, q_{75}: 0, q_{76}: 0, q_{77}: 0, q_{78}: 0, q_{79}: 0, q_{80}: 0, q_{81}: 0, q_{82}: 0, q_{83}: 0, q_{84}: 0, q_{85}: 0, q_{86}: 0, q_{87}: 0, q_{88}: 0, q_{89}: 0, q_{90}: 0, q_{91}: 1, q_{92}: 0, q_{93}: 0, q_{94}: 0, q_{95}: 0, q_{96}: 0, q_{97}: 0, q_{98}: 0, q_{99}: 0, q_{100}: 0, q_{101}: 0, q_{102}: 0, q_{103}: 1, q_{104}: 0, q_{105}: 0, q_{106}: 0, q_{107}: 1, q_{108}: 1, q_{109}: 0, q_{110}: 1}\n",
      "Max clauses satisfied:  91.0000000000000\n"
     ]
    }
   ],
   "source": [
    "clientG = GetGurobiClient()\n",
    "resultG = solve(model_uf20_01, clientG)\n",
    "\n",
    "min_energy = resultG.best.objective\n",
    "print(min_energy)\n",
    "print(resultG.best.values)\n",
    "print(\"Max clauses satisfied: \", ((K + min_energy) * -1))"
   ]
  },
  {
   "cell_type": "code",
   "execution_count": 34,
   "metadata": {},
   "outputs": [
    {
     "name": "stdout",
     "output_type": "stream",
     "text": [
      "-16.0\n",
      "{q_0: 1, q_1: 0, q_2: 1, q_3: 1, q_4: 0, q_5: 0, q_6: 0, q_7: 1, q_8: 1, q_9: 1, q_{10}: 1, q_{11}: 1, q_{12}: 0, q_{13}: 1, q_{14}: 0, q_{15}: 0, q_{16}: 1, q_{17}: 1, q_{18}: 0, q_{19}: 1, q_{20}: 0, q_{21}: 1, q_{22}: 1, q_{23}: 0, q_{24}: 1, q_{25}: 0, q_{26}: 0, q_{27}: 0, q_{28}: 0, q_{29}: 0, q_{30}: 1, q_{31}: 0, q_{32}: 1, q_{33}: 1, q_{34}: 0, q_{35}: 0, q_{36}: 0, q_{37}: 1, q_{38}: 0, q_{39}: 0, q_{40}: 0, q_{41}: 1, q_{42}: 1, q_{43}: 0, q_{44}: 0, q_{45}: 1, q_{46}: 1, q_{47}: 1, q_{48}: 1, q_{49}: 0, q_{50}: 0, q_{51}: 0, q_{52}: 0, q_{53}: 0, q_{54}: 0, q_{55}: 0, q_{56}: 1, q_{57}: 1, q_{58}: 1, q_{59}: 0, q_{60}: 1, q_{61}: 0, q_{62}: 0, q_{63}: 0, q_{64}: 0, q_{65}: 1, q_{66}: 1, q_{67}: 1, q_{68}: 0, q_{69}: 0, q_{70}: 1, q_{71}: 0, q_{72}: 1, q_{73}: 0, q_{74}: 1, q_{75}: 0, q_{76}: 0, q_{77}: 1, q_{78}: 0, q_{79}: 0, q_{80}: 1, q_{81}: 0, q_{82}: 1, q_{83}: 0, q_{84}: 1, q_{85}: 0, q_{86}: 1, q_{87}: 0, q_{88}: 0, q_{89}: 0, q_{90}: 0, q_{91}: 0, q_{92}: 1, q_{93}: 0, q_{94}: 1, q_{95}: 0, q_{96}: 0, q_{97}: 0, q_{98}: 0, q_{99}: 0, q_{100}: 1, q_{101}: 1, q_{102}: 1, q_{103}: 1, q_{104}: 1, q_{105}: 0, q_{106}: 0, q_{107}: 1, q_{108}: 1, q_{109}: 1, q_{110}: 1}\n",
      "Max clauses satisfied:  86.0000000000000\n"
     ]
    }
   ],
   "source": [
    "clientDWave = GetDWaveClient()\n",
    "resultDWave = solve(model_uf20_01, clientDWave)\n",
    "\n",
    "min_energy = resultDWave.best.objective\n",
    "print(min_energy)\n",
    "print(resultDWave.best.values)\n",
    "print(\"Max clauses satisfied: \", ((K + min_energy) * -1))"
   ]
  },
  {
   "cell_type": "code",
   "execution_count": 35,
   "metadata": {},
   "outputs": [
    {
     "name": "stdout",
     "output_type": "stream",
     "text": [
      "[1. 0. 1. 1. 0. 0. 0. 1. 1. 1. 1. 1. 0. 1. 0. 0. 1. 1. 0. 1. 0. 1. 1. 0.\n",
      " 1. 0. 0. 0. 0. 0. 1. 0. 1. 1. 0. 0. 0. 1. 0. 0. 0. 1. 1. 0. 0. 1. 1. 1.\n",
      " 1. 0. 0. 0. 0. 0. 0. 0. 1. 1. 1. 0. 1. 0. 0. 0. 0. 1. 1. 1. 0. 0. 1. 0.\n",
      " 1. 0. 1. 0. 0. 1. 0. 0. 1. 0. 1. 0. 1. 0. 1. 0. 0. 0. 0. 0. 1. 0. 1. 0.\n",
      " 0. 0. 0. 0. 1. 1. 1. 1. 1. 0. 0. 1. 1. 1. 1.]\n"
     ]
    }
   ],
   "source": [
    "result_array_Dwave = np.array(list(resultDWave.best.values.values()))\n",
    "print(result_array_Dwave)"
   ]
  },
  {
   "cell_type": "code",
   "execution_count": 36,
   "metadata": {},
   "outputs": [],
   "source": [
    "def verifier(clauses: NDArray[np.int_], result_values: NDArray[np.int_]) -> tuple[bool, int, list]:\n",
    "    num_clauses_True = 0\n",
    "    wrong_clause = []\n",
    "    for clause in clauses:\n",
    "        clause_Truth_value = False\n",
    "        for literal in clause:\n",
    "            if literal > 0 and result_values[literal - 1] == 1:\n",
    "                clause_Truth_value = True\n",
    "                break\n",
    "            elif literal < 0 and result_values[abs(literal) - 1] == 0:\n",
    "                clause_Truth_value = True\n",
    "                break\n",
    "        if clause_Truth_value:\n",
    "            num_clauses_True += 1\n",
    "        else:\n",
    "            wrong_clause.append(clause)\n",
    "    return (num_clauses_True == clauses.shape[0]), num_clauses_True, wrong_clause"
   ]
  },
  {
   "cell_type": "code",
   "execution_count": 37,
   "metadata": {},
   "outputs": [
    {
     "name": "stdout",
     "output_type": "stream",
     "text": [
      "(False, 89, [array([15, -9, 13]), array([  2, -10, -18])])\n"
     ]
    }
   ],
   "source": [
    "print(verifier(clauses, result_array_Dwave))"
   ]
  },
  {
   "cell_type": "markdown",
   "metadata": {},
   "source": [
    "Test Benchmarks"
   ]
  },
  {
   "cell_type": "code",
   "execution_count": 38,
   "metadata": {},
   "outputs": [
    {
     "name": "stdout",
     "output_type": "stream",
     "text": [
      "Number of literals: 100\n",
      "Number of clauses: 430\n"
     ]
    }
   ],
   "source": [
    "problem_num = \"075\"\n",
    "filename = f'TestSets\\\\Satisfiable\\\\uf100-430\\\\uf100-{problem_num}.cnf'\n",
    "clauses, num_n, num_m = read_cnf_file(filename)\n",
    "print(\"Number of literals:\", num_n)\n",
    "print(\"Number of clauses:\", num_m)\n"
   ]
  },
  {
   "cell_type": "code",
   "execution_count": 39,
   "metadata": {},
   "outputs": [
    {
     "name": "stdout",
     "output_type": "stream",
     "text": [
      "[[0 0 0 ... 0 0 0]\n",
      " [0 0 0 ... 0 0 0]\n",
      " [0 0 0 ... 0 0 0]\n",
      " ...\n",
      " [0 0 0 ... 0 0 0]\n",
      " [0 0 0 ... 0 0 0]\n",
      " [0 0 0 ... 0 0 1]]\n",
      "K =  -330\n"
     ]
    }
   ],
   "source": [
    "QUBO_matrix, K = problem_3SAT_to_QUBO(clauses, num_n)\n",
    "print(QUBO_matrix)\n",
    "print(\"K = \", K)"
   ]
  },
  {
   "cell_type": "code",
   "execution_count": 40,
   "metadata": {},
   "outputs": [
    {
     "name": "stdout",
     "output_type": "stream",
     "text": [
      "QUBO shape: (530, 530)\n",
      "QUBO size: 280900\n"
     ]
    }
   ],
   "source": [
    "print(\"QUBO shape:\", QUBO_matrix.shape)\n",
    "print(\"QUBO size:\", QUBO_matrix.size)"
   ]
  },
  {
   "cell_type": "code",
   "execution_count": 41,
   "metadata": {},
   "outputs": [
    {
     "name": "stdout",
     "output_type": "stream",
     "text": [
      "Number of 0: 278169\n",
      "Number of non-0: 2731\n",
      "0 to non-0 % 99.02776788892844\n"
     ]
    }
   ],
   "source": [
    "print(f\"Number of 0:\", np.sum(QUBO_matrix == 0))\n",
    "print(f\"Number of non-0:\", np.sum(QUBO_matrix != 0))\n",
    "print(f\"0 to non-0 %\", np.sum(QUBO_matrix == 0) / (np.sum(QUBO_matrix != 0) + np.sum(QUBO_matrix == 0)) * 100)\n",
    "\n",
    "model = QUBO_matrix_to_model(QUBO_matrix)"
   ]
  },
  {
   "cell_type": "code",
   "execution_count": 42,
   "metadata": {},
   "outputs": [
    {
     "name": "stdout",
     "output_type": "stream",
     "text": [
      "FixStar result for P-075: (True, 430, [])\n",
      "FixStar obj value: -100.0\n",
      "Max clauses satisfied:  430.000000000000\n"
     ]
    }
   ],
   "source": [
    "clientFS = GetFixstarClient()\n",
    "resultFS = solve(model, clientFS)\n",
    "literal_resultFS = np.array(list(resultFS.best.values.values()))\n",
    "\n",
    "print(f\"FixStar result for P-{problem_num}:\", verifier(clauses, literal_resultFS))\n",
    "print(\"FixStar obj value:\", resultFS.best.objective)\n",
    "print(\"Max clauses satisfied: \", ((K + resultFS.best.objective) * -1))"
   ]
  },
  {
   "cell_type": "code",
   "execution_count": 43,
   "metadata": {},
   "outputs": [
    {
     "name": "stdout",
     "output_type": "stream",
     "text": [
      "Gurobi result for P-075: (False, 428, [array([-86, -19,  56]), array([-69,  31,  66])])\n",
      "Gurobi obj value: -98.0\n",
      "Max clauses satisfied:  428.000000000000\n"
     ]
    }
   ],
   "source": [
    "clientG = GetGurobiClient()\n",
    "resultG = solve(model, clientG)\n",
    "literal_resultG = np.array(list(resultG.best.values.values()))\n",
    "\n",
    "print(f\"Gurobi result for P-{problem_num}:\", verifier(clauses, literal_resultG))\n",
    "print(\"Gurobi obj value:\", resultG.best.objective)\n",
    "print(\"Max clauses satisfied: \", ((K + resultG.best.objective) * -1))"
   ]
  },
  {
   "cell_type": "code",
   "execution_count": 44,
   "metadata": {},
   "outputs": [
    {
     "name": "stdout",
     "output_type": "stream",
     "text": [
      "DWave result for P-075: (False, 414, [array([ 93,  15, -99]), array([ 63,  39, -71]), array([ 76,  13, -37]), array([13, -8, 62]), array([-18,  82,  -4]), array([-89,  56, -60]), array([-17,  44,  63]), array([ -8, -66, -69]), array([-66, -92,  40]), array([46, 23,  5]), array([ 68,  30, -41]), array([-79,  27,  43]), array([ 14,  13, -89]), array([-98,  58,  -4]), array([63, 81, -4]), array([ 35,   9, -95])])\n",
      "DWave obj value: -71.0\n",
      "Max clauses satisfied:  401.000000000000\n"
     ]
    }
   ],
   "source": [
    "clientDWave = GetDWaveClient()\n",
    "resultDWave = solve(model, clientDWave)\n",
    "literal_resultDWave = np.array(list(resultDWave.best.values.values()))\n",
    "\n",
    "print(f\"DWave result for P-{problem_num}:\", verifier(clauses, literal_resultDWave))\n",
    "print(\"DWave obj value:\", resultDWave.best.objective)\n",
    "print(\"Max clauses satisfied: \", ((K + resultDWave.best.objective) * -1))"
   ]
  }
 ],
 "metadata": {
  "kernelspec": {
   "display_name": "myown_env",
   "language": "python",
   "name": "python3"
  },
  "language_info": {
   "codemirror_mode": {
    "name": "ipython",
    "version": 3
   },
   "file_extension": ".py",
   "mimetype": "text/x-python",
   "name": "python",
   "nbconvert_exporter": "python",
   "pygments_lexer": "ipython3",
   "version": "3.10.9"
  }
 },
 "nbformat": 4,
 "nbformat_minor": 2
}
