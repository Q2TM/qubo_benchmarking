{
 "cells": [
  {
   "cell_type": "markdown",
   "id": "0371ef2e-d725-43fb-99cb-2b31dd895df6",
   "metadata": {},
   "source": [
    "# Quadratic Unconstrained Binary Optimization (QUBO) Solver\n",
    "\n",
    "This Jupyter notebook provides a comprehensive approach to solving Quadratic Unconstrained Binary Optimization (QUBO) problems using multiple solvers. The notebook is structured to make it easy to understand and apply the different techniques to tackle QUBO problems.\n",
    "\n",
    "## Important\n",
    "\n",
    "Before you can use Fixstar and DWave, you must first sign up with an account and get an API token. For Gurobi, you need to download an application. See the main README file.\n",
    "\n",
    "## Notebook Structure\n",
    "\n",
    "The notebook is divided into **three main sections**, each focusing on a different solver. In each section, you'll find:\n",
    "\n",
    "- **Helper Methods**: These are imported from a different Python file for convenience.\n",
    "- **Solver Implementation**: Detailed steps that explain how the specific solver operates on the given QUBO problem.\n",
    "- **Results and Analysis**: The output of each solver is presented and analyzed to evaluate its performance on the QUBO instance.\n",
    "\n",
    "## Key Highlights\n",
    "\n",
    "- **Ingesting QUBO Matrix**: Each section includes methods to input a QUBO matrix, ensuring consistency in data handling.\n",
    "- **Solver Comparison**: The notebook enables a comparative analysis of the solvers by standardizing the inputs and output format.\n"
   ]
  },
  {
   "cell_type": "code",
   "execution_count": 23,
   "id": "beff6772-b4b8-44cb-b8c1-b4754327e9b2",
   "metadata": {},
   "outputs": [],
   "source": [
    "from amplify import VariableGenerator\n",
    "from amplify import solve\n",
    "from datetime import timedelta"
   ]
  },
  {
   "cell_type": "markdown",
   "id": "4c7ffe25-9b34-4be1-9aa0-28f3840aa8f2",
   "metadata": {},
   "source": [
    "## Sample problem: Set partitioning"
   ]
  },
  {
   "cell_type": "code",
   "execution_count": 24,
   "id": "0a643204-f787-4c40-853f-bd8fba846b1a",
   "metadata": {},
   "outputs": [
    {
     "name": "stdout",
     "output_type": "stream",
     "text": [
      "166\n"
     ]
    }
   ],
   "source": [
    "# Set partitioning\n",
    "\n",
    "gen = VariableGenerator()\n",
    "m = gen.matrix(\"Binary\", 8)\n",
    "\n",
    "q = m.quadratic\n",
    "s = [25, 7, 13, 31, 42, 17, 21, 10]\n",
    "total = sum(s)\n",
    "print(total)"
   ]
  },
  {
   "cell_type": "code",
   "execution_count": 25,
   "id": "97dc8053-3da7-456f-ae5b-43dd754535f7",
   "metadata": {},
   "outputs": [
    {
     "name": "stdout",
     "output_type": "stream",
     "text": [
      "[[-3525.   175.   325.   775.  1050.   425.   525.   250.]\n",
      " [  175. -1113.    91.   217.   294.   119.   147.    70.]\n",
      " [  325.    91. -1989.   403.   546.   221.   273.   130.]\n",
      " [  775.   217.   403. -4185.  1302.   527.   651.   310.]\n",
      " [ 1050.   294.   546.  1302. -5208.   714.   882.   420.]\n",
      " [  425.   119.   221.   527.   714. -2533.   357.   170.]\n",
      " [  525.   147.   273.   651.   882.   357. -3045.   210.]\n",
      " [  250.    70.   130.   310.   420.   170.   210. -1560.]]\n"
     ]
    }
   ],
   "source": [
    "q = m.quadratic\n",
    "for i in range(8):\n",
    "    for j in range(8):\n",
    "        q[i, j] = s[i] * (s[i] - total) if i == j else s[i] * s [j]\n",
    "print(q)"
   ]
  },
  {
   "cell_type": "code",
   "execution_count": 26,
   "id": "6cd5fd3b-999c-498a-a822-f75dc4f7faac",
   "metadata": {},
   "outputs": [
    {
     "name": "stdout",
     "output_type": "stream",
     "text": [
      "(x^T) Q x + (p^T) x + c\n",
      "where:\n",
      "  x = [q_0, q_1, q_2, q_3, q_4, q_5, q_6, q_7],\n",
      "  Q = [[-3525.,   175.,   325.,   775.,  1050.,   425.,   525.,   250.],\n",
      "       [  175., -1113.,    91.,   217.,   294.,   119.,   147.,    70.],\n",
      "       [  325.,    91., -1989.,   403.,   546.,   221.,   273.,   130.],\n",
      "       [  775.,   217.,   403., -4185.,  1302.,   527.,   651.,   310.],\n",
      "       [ 1050.,   294.,   546.,  1302., -5208.,   714.,   882.,   420.],\n",
      "       [  425.,   119.,   221.,   527.,   714., -2533.,   357.,   170.],\n",
      "       [  525.,   147.,   273.,   651.,   882.,   357., -3045.,   210.],\n",
      "       [  250.,    70.,   130.,   310.,   420.,   170.,   210., -1560.]],\n",
      "  p = [ 0.,  0.,  0.,  0.,  0.,  0.,  0.,  0.],\n",
      "  c = 0\n"
     ]
    }
   ],
   "source": [
    "model = m\n",
    "print(model)"
   ]
  },
  {
   "cell_type": "markdown",
   "id": "32631736-9d77-475b-a227-38e44872c500",
   "metadata": {},
   "source": [
    "## Sample problem: Max Cut"
   ]
  },
  {
   "cell_type": "code",
   "execution_count": 40,
   "id": "85af300f-42df-4544-a23e-153793dbaf64",
   "metadata": {},
   "outputs": [
    {
     "name": "stdout",
     "output_type": "stream",
     "text": [
      "[[-2.  1.  1.  0.  0.]\n",
      " [ 1. -2.  0.  1.  0.]\n",
      " [ 1.  0. -3.  1.  1.]\n",
      " [ 0.  1.  1. -3.  1.]\n",
      " [ 0.  0.  1.  1. -2.]]\n"
     ]
    }
   ],
   "source": [
    "### Max cut\n",
    "\n",
    "m2 = gen.matrix(\"Binary\", 5)\n",
    "\n",
    "q2 = m2.quadratic\n",
    "q2[0, 0] = -2\n",
    "q2[1, 1] = -2\n",
    "q2[2, 2] = -3\n",
    "q2[3, 3] = -3\n",
    "q2[4, 4] = -2\n",
    "q2[0, 1] = 1\n",
    "q2[0, 2] = 1\n",
    "q2[1, 0] = 1\n",
    "q2[1, 3] = 1\n",
    "q2[2, 0] = 1\n",
    "q2[2, 3] = 1\n",
    "q2[2, 4] = 1\n",
    "q2[3, 1] = 1\n",
    "q2[3, 2] = 1\n",
    "q2[3, 4] = 1\n",
    "q2[4, 2] = 1\n",
    "q2[4, 3] = 1\n",
    "print(q2)"
   ]
  },
  {
   "cell_type": "code",
   "execution_count": 28,
   "id": "d48608b9-4f06-48a9-802f-37b18dd5c1de",
   "metadata": {},
   "outputs": [
    {
     "name": "stdout",
     "output_type": "stream",
     "text": [
      "(x^T) Q x + (p^T) x + c\n",
      "where:\n",
      "  x = [q'_0, q'_1, q'_2, q'_3, q'_4],\n",
      "  Q = [[-2.,  1.,  1.,  0.,  0.],\n",
      "       [ 1., -2.,  0.,  1.,  0.],\n",
      "       [ 1.,  0., -3.,  1.,  1.],\n",
      "       [ 0.,  1.,  1., -3.,  1.],\n",
      "       [ 0.,  0.,  1.,  1., -2.]],\n",
      "  p = [ 0.,  0.,  0.,  0.,  0.],\n",
      "  c = 0\n"
     ]
    }
   ],
   "source": [
    "model2 = m2\n",
    "print(model2)"
   ]
  },
  {
   "cell_type": "markdown",
   "id": "8de1e9ed-63e5-4f2c-8ef8-63a9ff439b5b",
   "metadata": {},
   "source": [
    "## Fixstar Amplify"
   ]
  },
  {
   "cell_type": "code",
   "execution_count": 29,
   "id": "4ac35f62-5f38-467f-92c3-eca3ed9e78e7",
   "metadata": {},
   "outputs": [],
   "source": [
    "from solvers import GetFixstarsClient\n",
    "clientFS = GetFixstarsClient()"
   ]
  },
  {
   "cell_type": "code",
   "execution_count": 30,
   "id": "24066941-c57b-4956-8fb0-d8e0826123e8",
   "metadata": {},
   "outputs": [
    {
     "name": "stdout",
     "output_type": "stream",
     "text": [
      "-6889.0\n",
      "{q_0: 0, q_1: 1, q_2: 1, q_3: 0, q_4: 1, q_5: 0, q_6: 1, q_7: 0}\n"
     ]
    }
   ],
   "source": [
    "## Solve set partitioning and view result\n",
    "result = solve(model, clientFS)\n",
    "\n",
    "print(result.best.objective)\n",
    "print(result.best.values)"
   ]
  },
  {
   "cell_type": "code",
   "execution_count": 31,
   "id": "3503cb78-e894-4881-9af1-bdebbf44bb38",
   "metadata": {},
   "outputs": [
    {
     "name": "stdout",
     "output_type": "stream",
     "text": [
      "-5.0\n",
      "{q'_0: 0, q'_1: 1, q'_2: 1, q'_3: 0, q'_4: 1}\n"
     ]
    }
   ],
   "source": [
    "## Solve max cut and view result \n",
    "result2 = solve(model2, clientFS)\n",
    "\n",
    "print(result2.best.objective)\n",
    "print(result2.best.values)"
   ]
  },
  {
   "cell_type": "markdown",
   "id": "0ef361cd-3da2-4d4d-a6f3-60a8ce047632",
   "metadata": {},
   "source": [
    "## Gurobi"
   ]
  },
  {
   "cell_type": "code",
   "execution_count": 32,
   "id": "56fa47f8-2a48-4c31-a122-ab25d99916ac",
   "metadata": {},
   "outputs": [],
   "source": [
    "from solvers import GetGurobiClient\n",
    "clientG = GetGurobiClient()"
   ]
  },
  {
   "cell_type": "code",
   "execution_count": 33,
   "id": "d4263ee1-b431-44a3-942a-479257802339",
   "metadata": {},
   "outputs": [
    {
     "name": "stdout",
     "output_type": "stream",
     "text": [
      "-6889.0\n",
      "{q_0: 1, q_1: 1, q_2: 1, q_3: 0, q_4: 0, q_5: 1, q_6: 1, q_7: 0}\n"
     ]
    }
   ],
   "source": [
    "## Solve set partitioning and view result\n",
    "resultG = solve(model, clientG)\n",
    "\n",
    "print(resultG.best.objective)\n",
    "print(resultG.best.values)"
   ]
  },
  {
   "cell_type": "code",
   "execution_count": 34,
   "id": "b29aabfc-9839-49f0-a1e3-9bfe27b79f2c",
   "metadata": {},
   "outputs": [
    {
     "name": "stdout",
     "output_type": "stream",
     "text": [
      "-5.0\n",
      "{q'_0: 0, q'_1: 1, q'_2: 1, q'_3: 0, q'_4: 0}\n"
     ]
    }
   ],
   "source": [
    "## Solve max cut and view result\n",
    "resultG2 = solve(model2, clientG)\n",
    "\n",
    "print(resultG2.best.objective)\n",
    "print(resultG2.best.values)"
   ]
  },
  {
   "cell_type": "markdown",
   "id": "8cf44fe7-af74-417f-b8e0-119d07e34f66",
   "metadata": {},
   "source": [
    "## D-Wave"
   ]
  },
  {
   "cell_type": "code",
   "execution_count": 35,
   "id": "c600bb35-d091-44c5-8451-c2777966574b",
   "metadata": {},
   "outputs": [],
   "source": [
    "from solvers import GetDWaveClient\n",
    "clientDWave = GetDWaveClient()"
   ]
  },
  {
   "cell_type": "code",
   "execution_count": 36,
   "id": "344db2b4-82be-4514-81aa-a4bc9b557052",
   "metadata": {},
   "outputs": [
    {
     "name": "stdout",
     "output_type": "stream",
     "text": [
      "-6889.0\n",
      "{q_0: 1, q_1: 0, q_2: 0, q_3: 1, q_4: 0, q_5: 1, q_6: 0, q_7: 1}\n"
     ]
    }
   ],
   "source": [
    "## Solve set partitioning and view result\n",
    "result = solve(model, clientDWave)\n",
    "\n",
    "print(result.best.objective)\n",
    "print(result.best.values)"
   ]
  },
  {
   "cell_type": "code",
   "execution_count": 37,
   "id": "e3e22ffa-3ffd-41f3-b63c-7a41b195fb60",
   "metadata": {},
   "outputs": [
    {
     "name": "stdout",
     "output_type": "stream",
     "text": [
      "-6889.0\n",
      "{q_0: 0, q_1: 0, q_2: 0, q_3: 1, q_4: 1, q_5: 0, q_6: 0, q_7: 1}\n"
     ]
    }
   ],
   "source": [
    "## Solve max cut and view result\n",
    "result = solve(model, clientDWave)\n",
    "\n",
    "print(result.best.objective)\n",
    "print(result.best.values)"
   ]
  },
  {
   "cell_type": "code",
   "execution_count": 38,
   "id": "877a86d1-0502-4018-9104-42668a415fee",
   "metadata": {},
   "outputs": [],
   "source": [
    "# Lazy importing \n",
    "import sys \n",
    "sys.path.append('..')"
   ]
  },
  {
   "cell_type": "code",
   "execution_count": 39,
   "id": "b3a3051d-3ea2-4f3f-9342-3877c45041e0",
   "metadata": {},
   "outputs": [
    {
     "ename": "ImportError",
     "evalue": "cannot import name 'TSP' from 'TSP.utils' (d:\\Projects\\Computer projects\\Personal_Projects\\Quantum_computing\\Quantum_Code\\qubo_benchmarking\\Utils\\..\\TSP\\utils.py)",
     "output_type": "error",
     "traceback": [
      "\u001b[1;31m---------------------------------------------------------------------------\u001b[0m",
      "\u001b[1;31mImportError\u001b[0m                               Traceback (most recent call last)",
      "Cell \u001b[1;32mIn[39], line 1\u001b[0m\n\u001b[1;32m----> 1\u001b[0m \u001b[38;5;28;01mfrom\u001b[39;00m \u001b[38;5;21;01mTSP\u001b[39;00m\u001b[38;5;21;01m.\u001b[39;00m\u001b[38;5;21;01mutils\u001b[39;00m \u001b[38;5;28;01mimport\u001b[39;00m TSP \n\u001b[0;32m      2\u001b[0m \u001b[38;5;28;01mfrom\u001b[39;00m \u001b[38;5;21;01msolvers\u001b[39;00m \u001b[38;5;28;01mimport\u001b[39;00m \u001b[38;5;241m*\u001b[39m\n\u001b[0;32m      3\u001b[0m \u001b[38;5;28;01mfrom\u001b[39;00m \u001b[38;5;21;01mamplify\u001b[39;00m \u001b[38;5;28;01mimport\u001b[39;00m solve\n",
      "\u001b[1;31mImportError\u001b[0m: cannot import name 'TSP' from 'TSP.utils' (d:\\Projects\\Computer projects\\Personal_Projects\\Quantum_computing\\Quantum_Code\\qubo_benchmarking\\Utils\\..\\TSP\\utils.py)"
     ]
    }
   ],
   "source": [
    "from TSP.utils import TSP \n",
    "from solvers import *\n",
    "from amplify import solve\n",
    "        \n",
    "## Create a set of Traveling Salesman Problem\n",
    "def CreateTspSet(n, count):\n",
    "    models = []\n",
    "    for _ in range(count):\n",
    "        tsp = TSP(4, initial_plot=False)\n",
    "        qp = tsp.qubo(format=\"amplify\")\n",
    "        model = qp[\"model\"]\n",
    "        models.append(model)\n",
    "    return models\n",
    "\n",
    "models = CreateTspSet(4,1)\n",
    "RunSimulation(models)"
   ]
  }
 ],
 "metadata": {
  "kernelspec": {
   "display_name": "myown_env",
   "language": "python",
   "name": "python3"
  },
  "language_info": {
   "codemirror_mode": {
    "name": "ipython",
    "version": 3
   },
   "file_extension": ".py",
   "mimetype": "text/x-python",
   "name": "python",
   "nbconvert_exporter": "python",
   "pygments_lexer": "ipython3",
   "version": "3.10.9"
  }
 },
 "nbformat": 4,
 "nbformat_minor": 5
}
