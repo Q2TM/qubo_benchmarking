{
 "cells": [
  {
   "cell_type": "markdown",
   "id": "0371ef2e-d725-43fb-99cb-2b31dd895df6",
   "metadata": {},
   "source": [
    "# Quadratic Unconstrained Binary Optimization (QUBO) Solver\n",
    "\n",
    "This Jupyter notebook provides a comprehensive approach to solving Quadratic Unconstrained Binary Optimization (QUBO) problems using multiple solvers. The notebook is structured to make it easy to understand and apply the different techniques to tackle QUBO problems.\n",
    "\n",
    "## Important\n",
    "\n",
    "Before you can use Fixstar and DWave, you must first sign up with an account and get an API token. For Gurobi, you need to download an application. See the main README file.\n",
    "\n",
    "## Notebook Structure\n",
    "\n",
    "The notebook is divided into **three main sections**, each focusing on a different solver. In each section, you'll find:\n",
    "\n",
    "- **Helper Methods**: These are imported from a different Python file for convenience.\n",
    "- **Solver Implementation**: Detailed steps that explain how the specific solver operates on the given QUBO problem.\n",
    "- **Results and Analysis**: The output of each solver is presented and analyzed to evaluate its performance on the QUBO instance.\n",
    "\n",
    "## Key Highlights\n",
    "\n",
    "- **Ingesting QUBO Matrix**: Each section includes methods to input a QUBO matrix, ensuring consistency in data handling.\n",
    "- **Solver Comparison**: The notebook enables a comparative analysis of the solvers by standardizing the inputs and output format.\n"
   ]
  },
  {
   "cell_type": "code",
   "execution_count": null,
   "id": "beff6772-b4b8-44cb-b8c1-b4754327e9b2",
   "metadata": {},
   "outputs": [],
   "source": [
    "from amplify import VariableGenerator\n",
    "from amplify import solve\n",
    "from datetime import timedelta"
   ]
  },
  {
   "cell_type": "markdown",
   "id": "4c7ffe25-9b34-4be1-9aa0-28f3840aa8f2",
   "metadata": {},
   "source": [
    "## Sample problem: Set partitioning"
   ]
  },
  {
   "cell_type": "code",
   "execution_count": null,
   "id": "0a643204-f787-4c40-853f-bd8fba846b1a",
   "metadata": {},
   "outputs": [],
   "source": [
    "# Set partitioning\n",
    "\n",
    "gen = VariableGenerator()\n",
    "m = gen.matrix(\"Binary\", 8)\n",
    "\n",
    "q = m.quadratic\n",
    "s = [25, 7, 13, 31, 42, 17, 21, 10]\n",
    "total = sum(s)\n",
    "print(total)"
   ]
  },
  {
   "cell_type": "code",
   "execution_count": null,
   "id": "97dc8053-3da7-456f-ae5b-43dd754535f7",
   "metadata": {},
   "outputs": [],
   "source": [
    "q = m.quadratic\n",
    "for i in range(8):\n",
    "    for j in range(8):\n",
    "        q[i, j] = s[i] * (s[i] - total) if i == j else s[i] * s [j]\n",
    "print(q)"
   ]
  },
  {
   "cell_type": "code",
   "execution_count": null,
   "id": "6cd5fd3b-999c-498a-a822-f75dc4f7faac",
   "metadata": {},
   "outputs": [],
   "source": [
    "model = m\n",
    "print(model)"
   ]
  },
  {
   "cell_type": "markdown",
   "id": "32631736-9d77-475b-a227-38e44872c500",
   "metadata": {},
   "source": [
    "## Sample problem: Max Cut"
   ]
  },
  {
   "cell_type": "code",
   "execution_count": null,
   "id": "85af300f-42df-4544-a23e-153793dbaf64",
   "metadata": {},
   "outputs": [],
   "source": [
    "### Max cut\n",
    "\n",
    "m2 = gen.matrix(\"Binary\", 5)\n",
    "q2 = m2.quadratic\n",
    "q2[0, 0] = -2\n",
    "q2[1, 1] = -2\n",
    "q2[2, 2] = -3\n",
    "q2[3, 3] = -3\n",
    "q2[4, 4] = -2\n",
    "q2[0, 1] = 1\n",
    "q2[0, 2] = 1\n",
    "q2[1, 0] = 1\n",
    "q2[1, 3] = 1\n",
    "q2[2, 0] = 1\n",
    "q2[2, 3] = 1\n",
    "q2[2, 4] = 1\n",
    "q2[3, 1] = 1\n",
    "q2[3, 2] = 1\n",
    "q2[3, 4] = 1\n",
    "q2[4, 2] = 1\n",
    "q2[4, 3] = 1\n",
    "print(q2)"
   ]
  },
  {
   "cell_type": "code",
   "execution_count": null,
   "id": "d48608b9-4f06-48a9-802f-37b18dd5c1de",
   "metadata": {},
   "outputs": [],
   "source": [
    "model2 = m2\n",
    "print(model2)"
   ]
  },
  {
   "cell_type": "markdown",
   "id": "8de1e9ed-63e5-4f2c-8ef8-63a9ff439b5b",
   "metadata": {},
   "source": [
    "## Fixstar Amplify"
   ]
  },
  {
   "cell_type": "code",
   "execution_count": null,
   "id": "4ac35f62-5f38-467f-92c3-eca3ed9e78e7",
   "metadata": {},
   "outputs": [],
   "source": [
    "from solvers import GetFixstarClient\n",
    "clientFS = GetFixstarClient()"
   ]
  },
  {
   "cell_type": "code",
   "execution_count": null,
   "id": "24066941-c57b-4956-8fb0-d8e0826123e8",
   "metadata": {},
   "outputs": [],
   "source": [
    "## Solve set partitioning and view result\n",
    "result = solve(model, clientFS)\n",
    "\n",
    "print(result.best.objective)\n",
    "print(result.best.values)"
   ]
  },
  {
   "cell_type": "code",
   "execution_count": null,
   "id": "3503cb78-e894-4881-9af1-bdebbf44bb38",
   "metadata": {},
   "outputs": [],
   "source": [
    "## Solve max cut and view result \n",
    "result2 = solve(model2, clientFS)\n",
    "\n",
    "print(result2.best.objective)\n",
    "print(result2.best.values)"
   ]
  },
  {
   "cell_type": "markdown",
   "id": "0ef361cd-3da2-4d4d-a6f3-60a8ce047632",
   "metadata": {},
   "source": [
    "## Gurobi"
   ]
  },
  {
   "cell_type": "code",
   "execution_count": null,
   "id": "56fa47f8-2a48-4c31-a122-ab25d99916ac",
   "metadata": {},
   "outputs": [],
   "source": [
    "from solvers import GetGurobiClient\n",
    "clientG = GetGurobiClient()"
   ]
  },
  {
   "cell_type": "code",
   "execution_count": null,
   "id": "d4263ee1-b431-44a3-942a-479257802339",
   "metadata": {},
   "outputs": [],
   "source": [
    "## Solve set partitioning and view result\n",
    "resultG = solve(model, clientG)\n",
    "\n",
    "print(resultG.best.objective)\n",
    "print(resultG.best.values)"
   ]
  },
  {
   "cell_type": "code",
   "execution_count": null,
   "id": "b29aabfc-9839-49f0-a1e3-9bfe27b79f2c",
   "metadata": {},
   "outputs": [],
   "source": [
    "## Solve max cut and view result\n",
    "resultG2 = solve(model2, clientG)\n",
    "\n",
    "print(resultG2.best.objective)\n",
    "print(resultG2.best.values)"
   ]
  },
  {
   "cell_type": "markdown",
   "id": "8cf44fe7-af74-417f-b8e0-119d07e34f66",
   "metadata": {},
   "source": [
    "## D-Wave"
   ]
  },
  {
   "cell_type": "code",
   "execution_count": null,
   "id": "c600bb35-d091-44c5-8451-c2777966574b",
   "metadata": {},
   "outputs": [],
   "source": [
    "from solvers import GetDWaveClient\n",
    "clientDWave = GetDWaveClient()"
   ]
  },
  {
   "cell_type": "code",
   "execution_count": null,
   "id": "344db2b4-82be-4514-81aa-a4bc9b557052",
   "metadata": {},
   "outputs": [],
   "source": [
    "## Solve set partitioning and view result\n",
    "result = solve(model, clientDWave)\n",
    "\n",
    "print(result.best.objective)\n",
    "print(result.best.values)"
   ]
  },
  {
   "cell_type": "code",
   "execution_count": null,
   "id": "e3e22ffa-3ffd-41f3-b63c-7a41b195fb60",
   "metadata": {},
   "outputs": [],
   "source": [
    "## Solve max cut and view result\n",
    "result = solve(model, clientDWave)\n",
    "\n",
    "print(result.best.objective)\n",
    "print(result.best.values)"
   ]
  },
  {
   "cell_type": "code",
   "execution_count": 1,
   "id": "877a86d1-0502-4018-9104-42668a415fee",
   "metadata": {},
   "outputs": [],
   "source": [
    "# Lazy importing \n",
    "import sys \n",
    "sys.path.append('..')"
   ]
  },
  {
   "cell_type": "code",
   "execution_count": 2,
   "id": "b3a3051d-3ea2-4f3f-9342-3877c45041e0",
   "metadata": {},
   "outputs": [
    {
     "name": "stdout",
     "output_type": "stream",
     "text": [
      "Run 1\n",
      "9.0\n",
      "{q_{0,0}: 0, q_{0,1}: 0, q_{0,2}: 0, q_{0,3}: 1, q_{1,0}: 0, q_{1,1}: 0, q_{1,2}: 1, q_{1,3}: 0, q_{2,0}: 0, q_{2,1}: 1, q_{2,2}: 0, q_{2,3}: 0, q_{3,0}: 1, q_{3,1}: 0, q_{3,2}: 0, q_{3,3}: 0}\n",
      "0:00:00.962340\n",
      "Set parameter WLSAccessID\n",
      "Set parameter WLSSecret\n",
      "Set parameter LicenseID to value 2546891\n",
      "9.0Academic license 2546891 - for non-commercial use only - registered to e1___@u.nus.edu\n",
      "\n",
      "{q_{0,0}: 1, q_{0,1}: 0, q_{0,2}: 0, q_{0,3}: 0, q_{1,0}: 0, q_{1,1}: 0, q_{1,2}: 0, q_{1,3}: 1, q_{2,0}: 0, q_{2,1}: 1, q_{2,2}: 0, q_{2,3}: 0, q_{3,0}: 0, q_{3,1}: 0, q_{3,2}: 1, q_{3,3}: 0}\n",
      "0:00:00.058226\n"
     ]
    },
    {
     "name": "stderr",
     "output_type": "stream",
     "text": [
      "/Users/ck/Library/Python/3.9/lib/python/site-packages/urllib3/__init__.py:35: NotOpenSSLWarning: urllib3 v2 only supports OpenSSL 1.1.1+, currently the 'ssl' module is compiled with 'LibreSSL 2.8.3'. See: https://github.com/urllib3/urllib3/issues/3020\n",
      "  warnings.warn(\n"
     ]
    },
    {
     "name": "stdout",
     "output_type": "stream",
     "text": [
      "9.0\n",
      "{q_{0,0}: 1, q_{0,1}: 0, q_{0,2}: 0, q_{0,3}: 0, q_{1,0}: 0, q_{1,1}: 0, q_{1,2}: 0, q_{1,3}: 1, q_{2,0}: 0, q_{2,1}: 1, q_{2,2}: 0, q_{2,3}: 0, q_{3,0}: 0, q_{3,1}: 0, q_{3,2}: 1, q_{3,3}: 0}\n",
      "0:00:00.190521\n"
     ]
    }
   ],
   "source": [
    "from TSP.utils import TSP \n",
    "from solvers import *\n",
    "from amplify import solve\n",
    "        \n",
    "## Create a set of Traveling Salesman Problem\n",
    "def CreateTspSet(n, count):\n",
    "    models = []\n",
    "    for _ in range(count):\n",
    "        tsp = TSP(4, initial_plot=False)\n",
    "        qp = tsp.qubo(format=\"amplify\")\n",
    "        model = qp[\"model\"]\n",
    "        models.append(model)\n",
    "    return models\n",
    "\n",
    "models = CreateTspSet(4,1)\n",
    "RunSimulation(models)"
   ]
  },
  {
   "cell_type": "code",
   "execution_count": null,
   "id": "df866a7c-4c46-43b8-9375-8a1aa996aefc",
   "metadata": {},
   "outputs": [],
   "source": []
  },
  {
   "cell_type": "code",
   "execution_count": null,
   "id": "9985f3e4-549d-4f4e-a3be-a27afe36431a",
   "metadata": {},
   "outputs": [],
   "source": []
  }
 ],
 "metadata": {
  "kernelspec": {
   "display_name": "Python 3 (ipykernel)",
   "language": "python",
   "name": "python3"
  },
  "language_info": {
   "codemirror_mode": {
    "name": "ipython",
    "version": 3
   },
   "file_extension": ".py",
   "mimetype": "text/x-python",
   "name": "python",
   "nbconvert_exporter": "python",
   "pygments_lexer": "ipython3",
   "version": "3.9.6"
  }
 },
 "nbformat": 4,
 "nbformat_minor": 5
}
