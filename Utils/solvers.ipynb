{
 "cells": [
  {
   "cell_type": "markdown",
   "id": "0371ef2e-d725-43fb-99cb-2b31dd895df6",
   "metadata": {},
   "source": [
    "# Quadratic Unconstrained Binary Optimization (QUBO) Solver\n",
    "\n",
    "This Jupyter notebook provides a comprehensive approach to solving Quadratic Unconstrained Binary Optimization (QUBO) problems using multiple solvers. The notebook is structured to make it easy to understand and apply the different techniques to tackle QUBO problems.\n",
    "\n",
    "## Notebook Structure\n",
    "\n",
    "The notebook is divided into **three main sections**, each focusing on a different solver. In each section, you'll find:\n",
    "\n",
    "- **Helper Methods**: Functions to assist in ingesting the QUBO matrix, preparing it for processing, and formatting the input for each solver.\n",
    "- **Solver Implementation**: Detailed steps that explain how the specific solver operates on the given QUBO problem.\n",
    "- **Results and Analysis**: The output of each solver is presented and analyzed to evaluate its performance on the QUBO instance.\n",
    "\n",
    "## Key Highlights\n",
    "- **Ingesting QUBO Matrix**: Each section includes methods to input a QUBO matrix, ensuring consistency in data handling.\n",
    "- **Solver Comparison**: The notebook enables a comparative analysis of the solvers by standardizing the inputs and output format.\n",
    "- **Versatile Solvers**: Different solving approaches are demonstrated, providing insights into the strengths and weaknesses of each method.\n",
    "\n",
    "This setup will help you better understand the underlying mechanics of QUBO solvers and provide a robust framework for applying them to your optimization problems.\n"
   ]
  },
  {
   "cell_type": "code",
   "execution_count": 1,
   "id": "beff6772-b4b8-44cb-b8c1-b4754327e9b2",
   "metadata": {},
   "outputs": [],
   "source": [
    "from amplify import FixstarsClient\n",
    "from amplify import GurobiClient\n",
    "from amplify import DWaveSamplerClient\n",
    "from amplify import VariableGenerator\n",
    "from amplify import solve\n",
    "from datetime import timedelta\n",
    "import os\n",
    "from dotenv import load_dotenv"
   ]
  },
  {
   "cell_type": "code",
   "execution_count": 2,
   "id": "146b7c25-1fd3-4081-96c0-73d877eb5059",
   "metadata": {},
   "outputs": [],
   "source": [
    "load_dotenv()\n",
    "\n",
    "FIXSTAR_TOKEN = os.getenv('FIXSTAR_TOKEN')\n",
    "DWAVE_TOKEN = os.getenv('DWAVE_TOKEN')"
   ]
  },
  {
   "cell_type": "markdown",
   "id": "4c7ffe25-9b34-4be1-9aa0-28f3840aa8f2",
   "metadata": {},
   "source": [
    "## Sample problem: Set partitioning"
   ]
  },
  {
   "cell_type": "code",
   "execution_count": 3,
   "id": "0a643204-f787-4c40-853f-bd8fba846b1a",
   "metadata": {},
   "outputs": [
    {
     "name": "stdout",
     "output_type": "stream",
     "text": [
      "166\n"
     ]
    }
   ],
   "source": [
    "# Set partitioning\n",
    "\n",
    "gen = VariableGenerator()\n",
    "m = gen.matrix(\"Binary\", 8)\n",
    "\n",
    "q = m.quadratic\n",
    "s = [25, 7, 13, 31, 42, 17, 21, 10]\n",
    "total = sum(s)\n",
    "print(total)"
   ]
  },
  {
   "cell_type": "code",
   "execution_count": 4,
   "id": "97dc8053-3da7-456f-ae5b-43dd754535f7",
   "metadata": {},
   "outputs": [
    {
     "name": "stdout",
     "output_type": "stream",
     "text": [
      "[[-3525.   175.   325.   775.  1050.   425.   525.   250.]\n",
      " [  175. -1113.    91.   217.   294.   119.   147.    70.]\n",
      " [  325.    91. -1989.   403.   546.   221.   273.   130.]\n",
      " [  775.   217.   403. -4185.  1302.   527.   651.   310.]\n",
      " [ 1050.   294.   546.  1302. -5208.   714.   882.   420.]\n",
      " [  425.   119.   221.   527.   714. -2533.   357.   170.]\n",
      " [  525.   147.   273.   651.   882.   357. -3045.   210.]\n",
      " [  250.    70.   130.   310.   420.   170.   210. -1560.]]\n"
     ]
    }
   ],
   "source": [
    "q = m.quadratic\n",
    "for i in range(8):\n",
    "    for j in range(8):\n",
    "        q[i, j] = s[i] * (s[i] - total) if i == j else s[i] * s [j]\n",
    "print(q)"
   ]
  },
  {
   "cell_type": "code",
   "execution_count": 5,
   "id": "6cd5fd3b-999c-498a-a822-f75dc4f7faac",
   "metadata": {},
   "outputs": [
    {
     "name": "stdout",
     "output_type": "stream",
     "text": [
      "(x^T) Q x + (p^T) x + c\n",
      "where:\n",
      "  x = [q_0, q_1, q_2, q_3, q_4, q_5, q_6, q_7],\n",
      "  Q = [[-3525.,   175.,   325.,   775.,  1050.,   425.,   525.,   250.],\n",
      "       [  175., -1113.,    91.,   217.,   294.,   119.,   147.,    70.],\n",
      "       [  325.,    91., -1989.,   403.,   546.,   221.,   273.,   130.],\n",
      "       [  775.,   217.,   403., -4185.,  1302.,   527.,   651.,   310.],\n",
      "       [ 1050.,   294.,   546.,  1302., -5208.,   714.,   882.,   420.],\n",
      "       [  425.,   119.,   221.,   527.,   714., -2533.,   357.,   170.],\n",
      "       [  525.,   147.,   273.,   651.,   882.,   357., -3045.,   210.],\n",
      "       [  250.,    70.,   130.,   310.,   420.,   170.,   210., -1560.]],\n",
      "  p = [ 0.,  0.,  0.,  0.,  0.,  0.,  0.,  0.],\n",
      "  c = 0\n"
     ]
    }
   ],
   "source": [
    "model = m\n",
    "print(model)"
   ]
  },
  {
   "cell_type": "markdown",
   "id": "32631736-9d77-475b-a227-38e44872c500",
   "metadata": {},
   "source": [
    "## Sample problem: Max Cut"
   ]
  },
  {
   "cell_type": "code",
   "execution_count": 6,
   "id": "85af300f-42df-4544-a23e-153793dbaf64",
   "metadata": {},
   "outputs": [
    {
     "name": "stdout",
     "output_type": "stream",
     "text": [
      "[[-2.  1.  1.  0.  0.]\n",
      " [ 1. -2.  0.  1.  0.]\n",
      " [ 1.  0. -3.  1.  1.]\n",
      " [ 0.  1.  1. -3.  1.]\n",
      " [ 0.  0.  1.  1. -2.]]\n"
     ]
    }
   ],
   "source": [
    "### Max cut\n",
    "\n",
    "m2 = gen.matrix(\"Binary\", 5)\n",
    "q2 = m2.quadratic\n",
    "q2[0, 0] = -2\n",
    "q2[1, 1] = -2\n",
    "q2[2, 2] = -3\n",
    "q2[3, 3] = -3\n",
    "q2[4, 4] = -2\n",
    "q2[0, 1] = 1\n",
    "q2[0, 2] = 1\n",
    "q2[1, 0] = 1\n",
    "q2[1, 3] = 1\n",
    "q2[2, 0] = 1\n",
    "q2[2, 3] = 1\n",
    "q2[2, 4] = 1\n",
    "q2[3, 1] = 1\n",
    "q2[3, 2] = 1\n",
    "q2[3, 4] = 1\n",
    "q2[4, 2] = 1\n",
    "q2[4, 3] = 1\n",
    "print(q2)"
   ]
  },
  {
   "cell_type": "code",
   "execution_count": 7,
   "id": "d48608b9-4f06-48a9-802f-37b18dd5c1de",
   "metadata": {},
   "outputs": [
    {
     "name": "stdout",
     "output_type": "stream",
     "text": [
      "(x^T) Q x + (p^T) x + c\n",
      "where:\n",
      "  x = [q'_0, q'_1, q'_2, q'_3, q'_4],\n",
      "  Q = [[-2.,  1.,  1.,  0.,  0.],\n",
      "       [ 1., -2.,  0.,  1.,  0.],\n",
      "       [ 1.,  0., -3.,  1.,  1.],\n",
      "       [ 0.,  1.,  1., -3.,  1.],\n",
      "       [ 0.,  0.,  1.,  1., -2.]],\n",
      "  p = [ 0.,  0.,  0.,  0.,  0.],\n",
      "  c = 0\n"
     ]
    }
   ],
   "source": [
    "model2 = m2\n",
    "print(model2)"
   ]
  },
  {
   "cell_type": "markdown",
   "id": "8de1e9ed-63e5-4f2c-8ef8-63a9ff439b5b",
   "metadata": {},
   "source": [
    "## Fixstar Amplify"
   ]
  },
  {
   "cell_type": "code",
   "execution_count": 10,
   "id": "c069cb1e-201a-49de-95be-1a96c54c1dee",
   "metadata": {},
   "outputs": [],
   "source": [
    "## Initialise Fixstars Client\n",
    "\n",
    "clientFS = FixstarsClient()\n",
    "clientFS.token = FIXSTAR_TOKEN \n",
    "clientFS.parameters.timeout = 1000 "
   ]
  },
  {
   "cell_type": "code",
   "execution_count": 11,
   "id": "24066941-c57b-4956-8fb0-d8e0826123e8",
   "metadata": {},
   "outputs": [
    {
     "name": "stdout",
     "output_type": "stream",
     "text": [
      "-6889.0\n",
      "{q_0: 1, q_1: 0, q_2: 0, q_3: 1, q_4: 0, q_5: 1, q_6: 0, q_7: 1}\n"
     ]
    }
   ],
   "source": [
    "## Solve set partitioning and view result\n",
    "result = solve(model, clientFS)\n",
    "\n",
    "print(result.best.objective)\n",
    "print(result.best.values)"
   ]
  },
  {
   "cell_type": "code",
   "execution_count": 12,
   "id": "3503cb78-e894-4881-9af1-bdebbf44bb38",
   "metadata": {},
   "outputs": [
    {
     "name": "stdout",
     "output_type": "stream",
     "text": [
      "-5.0\n",
      "{q'_0: 1, q'_1: 0, q'_2: 0, q'_3: 1, q'_4: 1}\n"
     ]
    }
   ],
   "source": [
    "## Solve max cut and view result \n",
    "result2 = solve(model2, clientFS)\n",
    "\n",
    "print(result2.best.objective)\n",
    "print(result2.best.values)"
   ]
  },
  {
   "cell_type": "markdown",
   "id": "0ef361cd-3da2-4d4d-a6f3-60a8ce047632",
   "metadata": {},
   "source": [
    "## Gurobi"
   ]
  },
  {
   "cell_type": "code",
   "execution_count": null,
   "id": "fb15eaa6-c0a0-4ce1-ba3e-6b615fbfdf04",
   "metadata": {},
   "outputs": [],
   "source": [
    "## Initialise Gurobi Client\n",
    "\n",
    "clientG = GurobiClient()\n",
    "clientG.library_path = \"/Library/gurobi1103/macos_universal2/lib/libgurobi110.dylib\"\n",
    "clientG.parameters.time_limit = timedelta(seconds=100)"
   ]
  },
  {
   "cell_type": "code",
   "execution_count": null,
   "id": "d4263ee1-b431-44a3-942a-479257802339",
   "metadata": {},
   "outputs": [],
   "source": [
    "## Solve set partitioning and view result Gurobi\n",
    "resultG = solve(model, clientG)\n",
    "\n",
    "print(resultG.best.objective)\n",
    "print(resultG.best.values)"
   ]
  },
  {
   "cell_type": "code",
   "execution_count": null,
   "id": "b29aabfc-9839-49f0-a1e3-9bfe27b79f2c",
   "metadata": {},
   "outputs": [],
   "source": [
    "## Solve max cut and view result Gurobi\n",
    "resultG2 = solve(model2, clientG)\n",
    "\n",
    "print(resultG2.best.objective)\n",
    "print(resultG2.best.values)"
   ]
  },
  {
   "cell_type": "markdown",
   "id": "8cf44fe7-af74-417f-b8e0-119d07e34f66",
   "metadata": {},
   "source": [
    "## D-Wave"
   ]
  },
  {
   "cell_type": "code",
   "execution_count": 8,
   "id": "c81afa3f-1897-46e0-b842-4012a08af036",
   "metadata": {},
   "outputs": [],
   "source": [
    "clientDWave = DWaveSamplerClient()\n",
    "clientDWave.token = DWAVE_TOKEN\n",
    "clientDWave.solver = \"Advantage_system4.1\"\n",
    "clientDWave.parameters.num_reads = 1000"
   ]
  },
  {
   "cell_type": "code",
   "execution_count": 9,
   "id": "344db2b4-82be-4514-81aa-a4bc9b557052",
   "metadata": {},
   "outputs": [
    {
     "name": "stderr",
     "output_type": "stream",
     "text": [
      "/Users/ck/Library/Python/3.9/lib/python/site-packages/urllib3/__init__.py:35: NotOpenSSLWarning: urllib3 v2 only supports OpenSSL 1.1.1+, currently the 'ssl' module is compiled with 'LibreSSL 2.8.3'. See: https://github.com/urllib3/urllib3/issues/3020\n",
      "  warnings.warn(\n"
     ]
    },
    {
     "name": "stdout",
     "output_type": "stream",
     "text": [
      "-6889.0\n",
      "{q_0: 1, q_1: 0, q_2: 0, q_3: 1, q_4: 0, q_5: 1, q_6: 0, q_7: 1}\n"
     ]
    }
   ],
   "source": [
    "## Solve set partitioning and view result\n",
    "result = solve(model, clientDWave)\n",
    "\n",
    "print(result.best.objective)\n",
    "print(result.best.values)"
   ]
  },
  {
   "cell_type": "code",
   "execution_count": null,
   "id": "b584352a-fc0e-4c1c-be61-a7c4febcb0c9",
   "metadata": {},
   "outputs": [],
   "source": []
  }
 ],
 "metadata": {
  "kernelspec": {
   "display_name": "Python 3 (ipykernel)",
   "language": "python",
   "name": "python3"
  },
  "language_info": {
   "codemirror_mode": {
    "name": "ipython",
    "version": 3
   },
   "file_extension": ".py",
   "mimetype": "text/x-python",
   "name": "python",
   "nbconvert_exporter": "python",
   "pygments_lexer": "ipython3",
   "version": "3.9.6"
  }
 },
 "nbformat": 4,
 "nbformat_minor": 5
}
