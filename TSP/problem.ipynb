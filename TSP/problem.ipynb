{
 "cells": [
  {
   "cell_type": "markdown",
   "metadata": {},
   "source": [
    "# Traveling Salesperson Problem"
   ]
  },
  {
   "cell_type": "code",
   "execution_count": 2,
   "metadata": {},
   "outputs": [],
   "source": [
    "import matplotlib.pyplot as plt\n",
    "import numpy as np\n",
    "\n",
    "\n",
    "def randomize_cities(num_nodes: int):\n",
    "    positions = np.random.rand(num_nodes, 2)\n",
    "\n",
    "    fig, ax = plt.subplots()\n",
    "    ax.scatter(positions[:, 0], positions[:, 1], color='blue')\n",
    "\n",
    "    for i, (x, y) in enumerate(positions):\n",
    "        ax.text(x, y, f'N{i}', fontsize=12, ha='right')\n",
    "\n",
    "    plt.title(\"Randomized cities\")\n",
    "    plt.grid(True)\n",
    "    plt.show()\n",
    "\n",
    "    # pairwise distance using Euclidean distance\n",
    "    dist = np.zeros((num_nodes, num_nodes))\n",
    "    for i in range(num_nodes):\n",
    "        for j in range(num_nodes):\n",
    "            dist[i, j] = np.linalg.norm(positions[i] - positions[j])\n",
    "    return dist\n"
   ]
  },
  {
   "cell_type": "code",
   "execution_count": 3,
   "metadata": {},
   "outputs": [
    {
     "data": {
      "image/png": "[encoded data removed]",
      "text/plain": [
       "<Figure size 640x480 with 1 Axes>"
      ]
     },
     "metadata": {},
     "output_type": "display_data"
    }
   ],
   "source": [
    "weights = randomize_cities(4)"
   ]
  },
  {
   "cell_type": "markdown",
   "metadata": {},
   "source": [
    "For $N$ cities, use $N^2$ binary variables x(i,p), where i represents the index of a city and p represents the order of the city in the route. In other words, if city i is visited at step p of the route, then x(i,p) = 1.\n",
    "\n",
    "Constraints\\\n",
    "This euations ensure that each city is visited only once, and each step of the route is in one city.\n",
    "$\n",
    "\\begin{gather}\n",
    "\\sum_{p=0}^{N-1} ( 1 - \\sum_{i=0}^{N-1} x(i, p) )^2 = 0 \\\\\n",
    "\\sum_{i=0}^{N-1} ( 1 - \\sum_{p=0}^{N-1} x(i, p) )^2 = 0 \\\\ \n",
    "\\sum_{i=0}^{N-1} x_{i, p} = 1,\\ for\\ all\\ p \\\\\n",
    "\\sum_{p=0}^{N-1} x_{i, p} = 1,\\ for\\ all\\ i \\\\\n",
    "\\end{gather}\n",
    "$\n",
    "\n",
    "Objective\\\n",
    "Find the shortest Hamiltonian cycle in a graph\n",
    "$\n",
    "\\begin{gather}\n",
    "C(x) = \\sum_{i, j} w_{i, j} \\sum_{p=0}^{N-1} x_{i, p}x_{j, p + 1}  \\\\\n",
    "\\end{gather}\n",
    "$"
   ]
  },
  {
   "cell_type": "code",
   "execution_count": 4,
   "metadata": {},
   "outputs": [
    {
     "data": {
      "text/plain": [
       "array([[0.        , 0.98684367, 0.71663334, 0.84878287],\n",
       "       [0.98684367, 0.        , 0.36044142, 0.13844602],\n",
       "       [0.71663334, 0.36044142, 0.        , 0.26520398],\n",
       "       [0.84878287, 0.13844602, 0.26520398, 0.        ]])"
      ]
     },
     "execution_count": 4,
     "metadata": {},
     "output_type": "execute_result"
    }
   ],
   "source": [
    "weights"
   ]
  },
  {
   "cell_type": "code",
   "execution_count": 5,
   "metadata": {},
   "outputs": [
    {
     "data": {
      "text/plain": [
       "array([[ 0, 98, 71, 84],\n",
       "       [98,  0, 36, 13],\n",
       "       [71, 36,  0, 26],\n",
       "       [84, 13, 26,  0]])"
      ]
     },
     "execution_count": 5,
     "metadata": {},
     "output_type": "execute_result"
    }
   ],
   "source": [
    "int_dists = (weights * 100).astype(int)\n",
    "int_dists"
   ]
  },
  {
   "cell_type": "code",
   "execution_count": 6,
   "metadata": {},
   "outputs": [
    {
     "name": "stdout",
     "output_type": "stream",
     "text": [
      "Problem name: \n",
      "\n",
      "Minimize\n",
      "  98*x_0_0*x_1_1 + 98*x_0_0*x_1_3 + 71*x_0_0*x_2_1 + 71*x_0_0*x_2_3\n",
      "  + 84*x_0_0*x_3_1 + 84*x_0_0*x_3_3 + 98*x_0_1*x_1_0 + 98*x_0_1*x_1_2\n",
      "  + 71*x_0_1*x_2_0 + 71*x_0_1*x_2_2 + 84*x_0_1*x_3_0 + 84*x_0_1*x_3_2\n",
      "  + 98*x_0_2*x_1_1 + 98*x_0_2*x_1_3 + 71*x_0_2*x_2_1 + 71*x_0_2*x_2_3\n",
      "  + 84*x_0_2*x_3_1 + 84*x_0_2*x_3_3 + 98*x_0_3*x_1_0 + 98*x_0_3*x_1_2\n",
      "  + 71*x_0_3*x_2_0 + 71*x_0_3*x_2_2 + 84*x_0_3*x_3_0 + 84*x_0_3*x_3_2\n",
      "  + 36*x_1_0*x_2_1 + 36*x_1_0*x_2_3 + 13*x_1_0*x_3_1 + 13*x_1_0*x_3_3\n",
      "  + 36*x_1_1*x_2_0 + 36*x_1_1*x_2_2 + 13*x_1_1*x_3_0 + 13*x_1_1*x_3_2\n",
      "  + 36*x_1_2*x_2_1 + 36*x_1_2*x_2_3 + 13*x_1_2*x_3_1 + 13*x_1_2*x_3_3\n",
      "  + 36*x_1_3*x_2_0 + 36*x_1_3*x_2_2 + 13*x_1_3*x_3_0 + 13*x_1_3*x_3_2\n",
      "  + 26*x_2_0*x_3_1 + 26*x_2_0*x_3_3 + 26*x_2_1*x_3_0 + 26*x_2_1*x_3_2\n",
      "  + 26*x_2_2*x_3_1 + 26*x_2_2*x_3_3 + 26*x_2_3*x_3_0 + 26*x_2_3*x_3_2\n",
      "\n",
      "Subject to\n",
      "  Linear constraints (8)\n",
      "    x_0_0 + x_0_1 + x_0_2 + x_0_3 == 1  'c0'\n",
      "    x_1_0 + x_1_1 + x_1_2 + x_1_3 == 1  'c1'\n",
      "    x_2_0 + x_2_1 + x_2_2 + x_2_3 == 1  'c2'\n",
      "    x_3_0 + x_3_1 + x_3_2 + x_3_3 == 1  'c3'\n",
      "    x_0_0 + x_1_0 + x_2_0 + x_3_0 == 1  'c4'\n",
      "    x_0_1 + x_1_1 + x_2_1 + x_3_1 == 1  'c5'\n",
      "    x_0_2 + x_1_2 + x_2_2 + x_3_2 == 1  'c6'\n",
      "    x_0_3 + x_1_3 + x_2_3 + x_3_3 == 1  'c7'\n",
      "\n",
      "  Binary variables (16)\n",
      "    x_0_0 x_0_1 x_0_2 x_0_3 x_1_0 x_1_1 x_1_2 x_1_3 x_2_0 x_2_1 x_2_2 x_2_3\n",
      "    x_3_0 x_3_1 x_3_2 x_3_3\n",
      "\n"
     ]
    }
   ],
   "source": [
    "from qiskit_optimization import QuadraticProgram\n",
    "\n",
    "\n",
    "\n",
    "qp = QuadraticProgram()\n",
    "\n",
    "size = int_dists.shape[0]\n",
    "\n",
    "cities = {} # dictionary to store the city and order\n",
    "for i in range(size):\n",
    "    for p in range(size):\n",
    "        cities[f'x_{i}_{p}'] = qp.binary_var(f'x_{i}_{p}')\n",
    "        \n",
    "\n",
    "\n",
    "\n",
    "\n",
    "# Objective function\n",
    "quadratic_matrix = {}\n",
    "for i in range(size):\n",
    "    for j in range(size):\n",
    "        if i != j:\n",
    "            for p in range(size):\n",
    "                quadratic_matrix[(f'x_{i}_{p}', f'x_{j}_{(p+1)%size}')] = int_dists[i, j] \n",
    "\n",
    "qp.minimize(quadratic=quadratic_matrix)\n",
    "                \n",
    "# Constraint 1: each city is visited exactly once\n",
    "for i in range(size):\n",
    "    qp.linear_constraint(linear={f'x_{i}_{p}': 1 for p in range(size)}, sense='==', rhs=1)\n",
    "\n",
    "# Constraint 2: each city is left exactly once\n",
    "for p in range(size):\n",
    "    qp.linear_constraint(linear={f'x_{i}_{p}': 1 for i in range(size)}, sense='==', rhs=1)\n",
    "\n",
    "print(qp.prettyprint())\n",
    "\n"
   ]
  },
  {
   "cell_type": "code",
   "execution_count": 7,
   "metadata": {},
   "outputs": [
    {
     "name": "stdout",
     "output_type": "stream",
     "text": [
      "Offset: 42656.0\n",
      "Ising Hamiltonian:\n",
      "SparsePauliOp(['IIIIIIIIIIIIIIIZ', 'IIIIIIIIIIIIIIZI', 'IIIIIIIIIIIIIZII', 'IIIIIIIIIIIIZIII', 'IIIIIIIIIIIZIIII', 'IIIIIIIIIIZIIIII', 'IIIIIIIIIZIIIIII', 'IIIIIIIIZIIIIIII', 'IIIIIIIZIIIIIIII', 'IIIIIIZIIIIIIIII', 'IIIIIZIIIIIIIIII', 'IIIIZIIIIIIIIIII', 'IIIZIIIIIIIIIIII', 'IIZIIIIIIIIIIIII', 'IZIIIIIIIIIIIIII', 'ZIIIIIIIIIIIIIII', 'IIIIIIIIIIIIIIZZ', 'IIIIIIIIIIIIIZIZ', 'IIIIIIIIIIIIZIIZ', 'IIIIIIIIIIIZIIIZ', 'IIIIIIIIIIZIIIIZ', 'IIIIIIIIZIIIIIIZ', 'IIIIIIIZIIIIIIIZ', 'IIIIIIZIIIIIIIIZ', 'IIIIZIIIIIIIIIIZ', 'IIIZIIIIIIIIIIIZ', 'IIZIIIIIIIIIIIIZ', 'ZIIIIIIIIIIIIIIZ', 'IIIIIIIIIIIIIZZI', 'IIIIIIIIIIIIZIZI', 'IIIIIIIIIIIZIIZI', 'IIIIIIIIIIZIIIZI', 'IIIIIIIIIZIIIIZI', 'IIIIIIIZIIIIIIZI', 'IIIIIIZIIIIIIIZI', 'IIIIIZIIIIIIIIZI', 'IIIZIIIIIIIIIIZI', 'IIZIIIIIIIIIIIZI', 'IZIIIIIIIIIIIIZI', 'IIIIIIIIIIIIZZII', 'IIIIIIIIIIZIIZII', 'IIIIIIIIIZIIIZII', 'IIIIIIIIZIIIIZII', 'IIIIIIZIIIIIIZII', 'IIIIIZIIIIIIIZII', 'IIIIZIIIIIIIIZII', 'IIZIIIIIIIIIIZII', 'IZIIIIIIIIIIIZII', 'ZIIIIIIIIIIIIZII', 'IIIIIIIIIIIZZIII', 'IIIIIIIIIZIIZIII', 'IIIIIIIIZIIIZIII', 'IIIIIIIZIIIIZIII', 'IIIIIZIIIIIIZIII', 'IIIIZIIIIIIIZIII', 'IIIZIIIIIIIIZIII', 'IZIIIIIIIIIIZIII', 'ZIIIIIIIIIIIZIII', 'IIIIIIIIIIZZIIII', 'IIIIIIIIIZIZIIII', 'IIIIIIIIZIIZIIII', 'IIIIIIIZIIIZIIII', 'IIIIIIZIIIIZIIII', 'IIIIZIIIIIIZIIII', 'IIIZIIIIIIIZIIII', 'IIZIIIIIIIIZIIII', 'ZIIIIIIIIIIZIIII', 'IIIIIIIIIZZIIIII', 'IIIIIIIIZIZIIIII', 'IIIIIIIZIIZIIIII', 'IIIIIIZIIIZIIIII', 'IIIIIZIIIIZIIIII', 'IIIZIIIIIIZIIIII', 'IIZIIIIIIIZIIIII', 'IZIIIIIIIIZIIIII', 'IIIIIIIIZZIIIIII', 'IIIIIIZIIZIIIIII', 'IIIIIZIIIZIIIIII', 'IIIIZIIIIZIIIIII', 'IIZIIIIIIZIIIIII', 'IZIIIIIIIZIIIIII', 'ZIIIIIIIIZIIIIII', 'IIIIIIIZZIIIIIII', 'IIIIIZIIZIIIIIII', 'IIIIZIIIZIIIIIII', 'IIIZIIIIZIIIIIII', 'IZIIIIIIZIIIIIII', 'ZIIIIIIIZIIIIIII', 'IIIIIIZZIIIIIIII', 'IIIIIZIZIIIIIIII', 'IIIIZIIZIIIIIIII', 'IIIZIIIZIIIIIIII', 'IIZIIIIZIIIIIIII', 'ZIIIIIIZIIIIIIII', 'IIIIIZZIIIIIIIII', 'IIIIZIZIIIIIIIII', 'IIIZIIZIIIIIIIII', 'IIZIIIZIIIIIIIII', 'IZIIIIZIIIIIIIII', 'IIIIZZIIIIIIIIII', 'IIZIIZIIIIIIIIII', 'IZIIIZIIIIIIIIII', 'ZIIIIZIIIIIIIIII', 'IIIZZIIIIIIIIIII', 'IZIIZIIIIIIIIIII', 'ZIIIZIIIIIIIIIII', 'IIZZIIIIIIIIIIII', 'IZIZIIIIIIIIIIII', 'ZIIZIIIIIIIIIIII', 'IZZIIIIIIIIIIIII', 'ZIZIIIIIIIIIIIII', 'ZZIIIIIIIIIIIIII'],\n",
      "              coeffs=[-5.3765e+03+0.j, -5.3765e+03+0.j, -5.3765e+03+0.j, -5.3765e+03+0.j,\n",
      " -5.3235e+03+0.j, -5.3235e+03+0.j, -5.3235e+03+0.j, -5.3235e+03+0.j,\n",
      " -5.3165e+03+0.j, -5.3165e+03+0.j, -5.3165e+03+0.j, -5.3165e+03+0.j,\n",
      " -5.3115e+03+0.j, -5.3115e+03+0.j, -5.3115e+03+0.j, -5.3115e+03+0.j,\n",
      "  1.3125e+03+0.j,  1.3125e+03+0.j,  1.3125e+03+0.j,  1.3125e+03+0.j,\n",
      "  2.4500e+01+0.j,  2.4500e+01+0.j,  1.3125e+03+0.j,  1.7750e+01+0.j,\n",
      "  1.7750e+01+0.j,  1.3125e+03+0.j,  2.1000e+01+0.j,  2.1000e+01+0.j,\n",
      "  1.3125e+03+0.j,  1.3125e+03+0.j,  2.4500e+01+0.j,  1.3125e+03+0.j,\n",
      "  2.4500e+01+0.j,  1.7750e+01+0.j,  1.3125e+03+0.j,  1.7750e+01+0.j,\n",
      "  2.1000e+01+0.j,  1.3125e+03+0.j,  2.1000e+01+0.j,  1.3125e+03+0.j,\n",
      "  2.4500e+01+0.j,  1.3125e+03+0.j,  2.4500e+01+0.j,  1.7750e+01+0.j,\n",
      "  1.3125e+03+0.j,  1.7750e+01+0.j,  2.1000e+01+0.j,  1.3125e+03+0.j,\n",
      "  2.1000e+01+0.j,  2.4500e+01+0.j,  2.4500e+01+0.j,  1.3125e+03+0.j,\n",
      "  1.7750e+01+0.j,  1.7750e+01+0.j,  1.3125e+03+0.j,  2.1000e+01+0.j,\n",
      "  2.1000e+01+0.j,  1.3125e+03+0.j,  1.3125e+03+0.j,  1.3125e+03+0.j,\n",
      "  1.3125e+03+0.j,  1.3125e+03+0.j,  9.0000e+00+0.j,  9.0000e+00+0.j,\n",
      "  1.3125e+03+0.j,  3.2500e+00+0.j,  3.2500e+00+0.j,  1.3125e+03+0.j,\n",
      "  1.3125e+03+0.j,  9.0000e+00+0.j,  1.3125e+03+0.j,  9.0000e+00+0.j,\n",
      "  3.2500e+00+0.j,  1.3125e+03+0.j,  3.2500e+00+0.j,  1.3125e+03+0.j,\n",
      "  9.0000e+00+0.j,  1.3125e+03+0.j,  9.0000e+00+0.j,  3.2500e+00+0.j,\n",
      "  1.3125e+03+0.j,  3.2500e+00+0.j,  9.0000e+00+0.j,  9.0000e+00+0.j,\n",
      "  1.3125e+03+0.j,  3.2500e+00+0.j,  3.2500e+00+0.j,  1.3125e+03+0.j,\n",
      "  1.3125e+03+0.j,  1.3125e+03+0.j,  1.3125e+03+0.j,  1.3125e+03+0.j,\n",
      "  6.5000e+00+0.j,  6.5000e+00+0.j,  1.3125e+03+0.j,  1.3125e+03+0.j,\n",
      "  6.5000e+00+0.j,  1.3125e+03+0.j,  6.5000e+00+0.j,  1.3125e+03+0.j,\n",
      "  6.5000e+00+0.j,  1.3125e+03+0.j,  6.5000e+00+0.j,  6.5000e+00+0.j,\n",
      "  6.5000e+00+0.j,  1.3125e+03+0.j,  1.3125e+03+0.j,  1.3125e+03+0.j,\n",
      "  1.3125e+03+0.j,  1.3125e+03+0.j,  1.3125e+03+0.j,  1.3125e+03+0.j])\n"
     ]
    }
   ],
   "source": [
    "from qiskit_optimization.converters import QuadraticProgramToQubo\n",
    "\n",
    "qp2qubo = QuadraticProgramToQubo()\n",
    "qubo = qp2qubo.convert(qp)\n",
    "qubitOp, offset = qubo.to_ising()\n",
    "\n",
    "print('Offset:', offset)\n",
    "print('Ising Hamiltonian:')\n",
    "print(str(qubitOp))\n"
   ]
  },
  {
   "cell_type": "code",
   "execution_count": 8,
   "metadata": {},
   "outputs": [
    {
     "name": "stdout",
     "output_type": "stream",
     "text": [
      "objective function value: 204.0\n",
      "variable values: x_0_0=0.0, x_0_1=0.0, x_0_2=0.0, x_0_3=1.0, x_1_0=0.0, x_1_1=1.0, x_1_2=0.0, x_1_3=0.0, x_2_0=0.0, x_2_1=0.0, x_2_2=1.0, x_2_3=0.0, x_3_0=1.0, x_3_1=0.0, x_3_2=0.0, x_3_3=0.0\n",
      "status: SUCCESS\n",
      "[3. 1. 2. 0.]\n"
     ]
    }
   ],
   "source": [
    "from qiskit_optimization.algorithms import MinimumEigenOptimizer\n",
    "from qiskit_algorithms import NumPyMinimumEigensolver\n",
    "\n",
    "exact = MinimumEigenOptimizer(NumPyMinimumEigensolver())\n",
    "result = exact.solve(qp)\n",
    "print(result.prettyprint())\n",
    "\n",
    "def reorder(x, size):\n",
    "    y = np.zeros(size)\n",
    "    for i, v in enumerate(x):\n",
    "        if v == 1:\n",
    "            y[int(i) % size] = i // size\n",
    "    return y\n",
    "\n",
    "print(reorder(result.samples[0].x, size))\n",
    "   "
   ]
  },
  {
   "cell_type": "code",
   "execution_count": null,
   "metadata": {},
   "outputs": [],
   "source": []
  }
 ],
 "metadata": {
  "kernelspec": {
   "display_name": "cwq",
   "language": "python",
   "name": "python3"
  },
  "language_info": {
   "codemirror_mode": {
    "name": "ipython",
    "version": 3
   },
   "file_extension": ".py",
   "mimetype": "text/x-python",
   "name": "python",
   "nbconvert_exporter": "python",
   "pygments_lexer": "ipython3",
   "version": "3.12.3"
  }
 },
 "nbformat": 4,
 "nbformat_minor": 2
}
