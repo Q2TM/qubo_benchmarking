{
 "cells": [
  {
   "cell_type": "markdown",
   "metadata": {},
   "source": [
    "# Solving TSP for benchmarking "
   ]
  },
  {
   "cell_type": "code",
   "execution_count": 1,
   "metadata": {},
   "outputs": [],
   "source": [
    "# Lazy importing \n",
    "import sys \n",
    "sys.path.append('..')"
   ]
  },
  {
   "cell_type": "code",
   "execution_count": 7,
   "metadata": {},
   "outputs": [
    {
     "data": {
      "image/png": "[encoded data removed]",
      "text/plain": [
       "<Figure size 640x480 with 1 Axes>"
      ]
     },
     "metadata": {},
     "output_type": "display_data"
    }
   ],
   "source": [
    "from travelingsalesperson import TSP \n",
    "from amplify import solve\n",
    "\n",
    "n = 20\n",
    "\n",
    "# setting up the TSP problem \n",
    "tsp = TSP(n, initial_plot=True)\n",
    "\n",
    "qp = tsp.qubo(format=\"amplify\", penalty=30)\n",
    "model = qp[\"model\"]"
   ]
  },
  {
   "cell_type": "markdown",
   "metadata": {},
   "source": [
    "## Brute Force"
   ]
  },
  {
   "cell_type": "code",
   "execution_count": 8,
   "metadata": {},
   "outputs": [
    {
     "name": "stderr",
     "output_type": "stream",
     "text": [
      "inner1 took too long\n"
     ]
    },
    {
     "name": "stdout",
     "output_type": "stream",
     "text": [
      "\n"
     ]
    }
   ],
   "source": [
    "try:\n",
    "    (tour, cost), dur = tsp.brute_force()\n",
    "    tsp.draw_tour(tour)\n",
    "\n",
    "    print(\"Tour: \", tour, \"Cost: \", cost)\n",
    "except KeyboardInterrupt as e:\n",
    "    print(e)\n",
    "    cost = \"NaN\"\n",
    "    dur = \"NaN\"\n",
    "    tour = \"NaN\"\n",
    "\n",
    "from utils import add_data\n",
    "add_data(n, cost, dur, tour, \"brute_force\")"
   ]
  },
  {
   "cell_type": "markdown",
   "metadata": {},
   "source": [
    "## Fixstars Amplify AE"
   ]
  },
  {
   "cell_type": "code",
   "execution_count": 9,
   "metadata": {},
   "outputs": [
    {
     "name": "stdout",
     "output_type": "stream",
     "text": [
      "Cost: 30.0\n",
      "Optimal tour: [14. 10. 19. 18. 12.  1. 13.  8. 11.  2.  7.  6. 17.  4.  5. 16.  9. 15.\n",
      "  0.  3.]\n",
      "Execution time: 0:00:00.976711\n"
     ]
    }
   ],
   "source": [
    "# Initialise Fixstars Client\n",
    "from Utils.solvers import GetFixstarClient\n",
    "\n",
    "clientFS = GetFixstarClient()\n",
    "\n",
    "# Solve set partitioning and view result\n",
    "resultF = solve(model, clientFS)\n",
    "\n",
    "tsp.interpret(resultF, solver=\"Fixstar\", verbose=True)"
   ]
  },
  {
   "cell_type": "markdown",
   "metadata": {},
   "source": [
    "## Gurobi"
   ]
  },
  {
   "cell_type": "code",
   "execution_count": 10,
   "metadata": {},
   "outputs": [
    {
     "name": "stdout",
     "output_type": "stream",
     "text": [
      "Cost: 31.0\n",
      "Optimal tour: [ 0. 15.  9.  3. 14. 10. 19. 18. 12.  1.  8. 13. 11.  2.  6. 17.  4. 16.\n",
      "  5.  7.]\n",
      "Execution time: 0:01:40.182999\n"
     ]
    }
   ],
   "source": [
    "from Utils.solvers import GetGurobiClient\n",
    "\n",
    "clientG = GetGurobiClient(r\"D:\\miniconda3\\envs\\cwq\\gurobi110.dll\")\n",
    "resultG = solve(model, clientG)\n",
    "\n",
    "tourG = tsp.interpret(resultG, solver=\"Gurobi\", verbose=True)"
   ]
  },
  {
   "cell_type": "markdown",
   "metadata": {},
   "source": [
    "## D-Wave"
   ]
  },
  {
   "cell_type": "code",
   "execution_count": 6,
   "metadata": {},
   "outputs": [
    {
     "ename": "RuntimeError",
     "evalue": "both clique and minor embeddings failed: the problem size may be too large to embed in the target graph",
     "output_type": "error",
     "traceback": [
      "\u001b[1;31m---------------------------------------------------------------------------\u001b[0m",
      "\u001b[1;31mRuntimeError\u001b[0m                              Traceback (most recent call last)",
      "Cell \u001b[1;32mIn[6], line 5\u001b[0m\n\u001b[0;32m      1\u001b[0m \u001b[38;5;28;01mfrom\u001b[39;00m \u001b[38;5;21;01mUtils\u001b[39;00m\u001b[38;5;21;01m.\u001b[39;00m\u001b[38;5;21;01msolvers\u001b[39;00m \u001b[38;5;28;01mimport\u001b[39;00m GetDWaveClient\n\u001b[0;32m      3\u001b[0m clientDWave \u001b[38;5;241m=\u001b[39m GetDWaveClient()\n\u001b[1;32m----> 5\u001b[0m result \u001b[38;5;241m=\u001b[39m solve(model, clientDWave)\n\u001b[0;32m      6\u001b[0m \u001b[38;5;28;01mtry\u001b[39;00m:\n\u001b[0;32m      7\u001b[0m     tourD \u001b[38;5;241m=\u001b[39m tsp\u001b[38;5;241m.\u001b[39minterpret(result, solver\u001b[38;5;241m=\u001b[39m\u001b[38;5;124m\"\u001b[39m\u001b[38;5;124mD-Wave\u001b[39m\u001b[38;5;124m\"\u001b[39m, verbose\u001b[38;5;241m=\u001b[39m\u001b[38;5;28;01mTrue\u001b[39;00m)\n",
      "\u001b[1;31mRuntimeError\u001b[0m: both clique and minor embeddings failed: the problem size may be too large to embed in the target graph"
     ]
    }
   ],
   "source": [
    "from Utils.solvers import GetDWaveClient\n",
    "\n",
    "clientDWave = GetDWaveClient()\n",
    "\n",
    "result = solve(model, clientDWave)\n",
    "try:\n",
    "    tourD = tsp.interpret(result, solver=\"D-Wave\", verbose=True)\n",
    "except RuntimeError as e:\n",
    "    print(e)\n",
    "    add_data(n, \"NaN\", \"NaN\", \"NaN\", \"D-Wave\")"
   ]
  },
  {
   "cell_type": "code",
   "execution_count": null,
   "metadata": {},
   "outputs": [],
   "source": []
  }
 ],
 "metadata": {
  "kernelspec": {
   "display_name": "cwq",
   "language": "python",
   "name": "python3"
  },
  "language_info": {
   "codemirror_mode": {
    "name": "ipython",
    "version": 3
   },
   "file_extension": ".py",
   "mimetype": "text/x-python",
   "name": "python",
   "nbconvert_exporter": "python",
   "pygments_lexer": "ipython3",
   "version": "3.12.3"
  }
 },
 "nbformat": 4,
 "nbformat_minor": 2
}
